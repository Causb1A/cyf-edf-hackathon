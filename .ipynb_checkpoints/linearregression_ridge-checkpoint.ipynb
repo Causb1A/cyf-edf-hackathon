{
 "cells": [
  {
   "cell_type": "markdown",
   "metadata": {},
   "source": [
    "Linear Regression notebook for EDF-Code Your Future Hackathon"
   ]
  },
  {
   "cell_type": "code",
   "execution_count": 1,
   "metadata": {
    "scrolled": true
   },
   "outputs": [
    {
     "name": "stderr",
     "output_type": "stream",
     "text": [
      "C:\\Users\\causb1a\\AppData\\Roaming\\Python\\Python36\\site-packages\\pandas\\compat\\_optional.py:124: UserWarning: Pandas requires version '1.2.1' or newer of 'bottleneck' (version '1.2.0' currently installed).\n",
      "  warnings.warn(msg, UserWarning)\n"
     ]
    }
   ],
   "source": [
    "import pandas as pd\n",
    "import numpy as np\n",
    "import matplotlib.pyplot as plt\n",
    "import seaborn as sns\n",
    "\n",
    "from sklearn.model_selection import KFold\n",
    "from sklearn.linear_model import LinearRegression\n",
    "from sklearn.linear_model import Ridge\n",
    "from sklearn.preprocessing import StandardScaler"
   ]
  },
  {
   "cell_type": "code",
   "execution_count": 2,
   "metadata": {},
   "outputs": [],
   "source": [
    "def pretty_print_coefficients(model, columns):\n",
    "    # Function to display estimated coefficients in a more human-readable way\n",
    "\n",
    "    # coef -> np.array: estimated regression coefficients\n",
    "    # columns -> list of str: columns used for prediction\n",
    "\n",
    "    coefDf = pd.DataFrame({\"Feature\": columns,\"Coefficients\": model.coef_[0]})\n",
    "    coefDf.head(len(columns))\n",
    "    #return coefDf"
   ]
  },
  {
   "cell_type": "code",
   "execution_count": 3,
   "metadata": {},
   "outputs": [
    {
     "data": {
      "text/html": [
       "<div>\n",
       "<style scoped>\n",
       "    .dataframe tbody tr th:only-of-type {\n",
       "        vertical-align: middle;\n",
       "    }\n",
       "\n",
       "    .dataframe tbody tr th {\n",
       "        vertical-align: top;\n",
       "    }\n",
       "\n",
       "    .dataframe thead th {\n",
       "        text-align: right;\n",
       "    }\n",
       "</style>\n",
       "<table border=\"1\" class=\"dataframe\">\n",
       "  <thead>\n",
       "    <tr style=\"text-align: right;\">\n",
       "      <th></th>\n",
       "      <th>Unnamed: 0</th>\n",
       "      <th>Relative Compactness</th>\n",
       "      <th>Roof Area</th>\n",
       "      <th>Overall Height</th>\n",
       "      <th>Orientation</th>\n",
       "      <th>Glazing Area</th>\n",
       "      <th>Glazing Area Distribution</th>\n",
       "      <th>Heating Load</th>\n",
       "      <th>Cooling Load</th>\n",
       "      <th>Location</th>\n",
       "      <th>surface_area_categories</th>\n",
       "      <th>wall_description</th>\n",
       "      <th>energxe</th>\n",
       "    </tr>\n",
       "  </thead>\n",
       "  <tbody>\n",
       "    <tr>\n",
       "      <th>0</th>\n",
       "      <td>223</td>\n",
       "      <td>0.71</td>\n",
       "      <td>220.5</td>\n",
       "      <td>3.5</td>\n",
       "      <td>5</td>\n",
       "      <td>0.10</td>\n",
       "      <td>4.407175</td>\n",
       "      <td>10.72</td>\n",
       "      <td>14.20</td>\n",
       "      <td>Mountain</td>\n",
       "      <td>High Surface Area</td>\n",
       "      <td>The wall colour is green and the area is 269.5...</td>\n",
       "      <td>571.0</td>\n",
       "    </tr>\n",
       "    <tr>\n",
       "      <th>1</th>\n",
       "      <td>285</td>\n",
       "      <td>0.62</td>\n",
       "      <td>220.5</td>\n",
       "      <td>3.5</td>\n",
       "      <td>3</td>\n",
       "      <td>0.10</td>\n",
       "      <td>3.725392</td>\n",
       "      <td>12.74</td>\n",
       "      <td>13.97</td>\n",
       "      <td>City</td>\n",
       "      <td>Very High Surface Area</td>\n",
       "      <td>The wall colour is indigo and the area is 367....</td>\n",
       "      <td>NaN</td>\n",
       "    </tr>\n",
       "    <tr>\n",
       "      <th>2</th>\n",
       "      <td>350</td>\n",
       "      <td>0.82</td>\n",
       "      <td>147.0</td>\n",
       "      <td>7.0</td>\n",
       "      <td>4</td>\n",
       "      <td>0.25</td>\n",
       "      <td>1.530090</td>\n",
       "      <td>25.38</td>\n",
       "      <td>26.72</td>\n",
       "      <td>Countryside</td>\n",
       "      <td>Low Surface Area</td>\n",
       "      <td>The wall colour is orange and the area is 318....</td>\n",
       "      <td>NaN</td>\n",
       "    </tr>\n",
       "    <tr>\n",
       "      <th>3</th>\n",
       "      <td>363</td>\n",
       "      <td>0.74</td>\n",
       "      <td>220.5</td>\n",
       "      <td>3.5</td>\n",
       "      <td>5</td>\n",
       "      <td>0.25</td>\n",
       "      <td>2.007144</td>\n",
       "      <td>12.30</td>\n",
       "      <td>15.44</td>\n",
       "      <td>City</td>\n",
       "      <td>Average Surface Area</td>\n",
       "      <td>The wall colour is orange and the area is 245....</td>\n",
       "      <td>395.0</td>\n",
       "    </tr>\n",
       "    <tr>\n",
       "      <th>4</th>\n",
       "      <td>551</td>\n",
       "      <td>0.76</td>\n",
       "      <td>122.5</td>\n",
       "      <td>7.0</td>\n",
       "      <td>5</td>\n",
       "      <td>0.40</td>\n",
       "      <td>1.649852</td>\n",
       "      <td>40.43</td>\n",
       "      <td>39.48</td>\n",
       "      <td>Seaside</td>\n",
       "      <td>Average Surface Area</td>\n",
       "      <td>The wall colour is indigo and the area is 416....</td>\n",
       "      <td>NaN</td>\n",
       "    </tr>\n",
       "  </tbody>\n",
       "</table>\n",
       "</div>"
      ],
      "text/plain": [
       "   Unnamed: 0  Relative Compactness  Roof Area  Overall Height  Orientation  \\\n",
       "0         223                  0.71      220.5             3.5            5   \n",
       "1         285                  0.62      220.5             3.5            3   \n",
       "2         350                  0.82      147.0             7.0            4   \n",
       "3         363                  0.74      220.5             3.5            5   \n",
       "4         551                  0.76      122.5             7.0            5   \n",
       "\n",
       "   Glazing Area  Glazing Area Distribution  Heating Load  Cooling Load  \\\n",
       "0          0.10                   4.407175         10.72         14.20   \n",
       "1          0.10                   3.725392         12.74         13.97   \n",
       "2          0.25                   1.530090         25.38         26.72   \n",
       "3          0.25                   2.007144         12.30         15.44   \n",
       "4          0.40                   1.649852         40.43         39.48   \n",
       "\n",
       "      Location surface_area_categories  \\\n",
       "0     Mountain       High Surface Area   \n",
       "1         City  Very High Surface Area   \n",
       "2  Countryside        Low Surface Area   \n",
       "3         City    Average Surface Area   \n",
       "4      Seaside    Average Surface Area   \n",
       "\n",
       "                                    wall_description  energxe  \n",
       "0  The wall colour is green and the area is 269.5...    571.0  \n",
       "1  The wall colour is indigo and the area is 367....      NaN  \n",
       "2  The wall colour is orange and the area is 318....      NaN  \n",
       "3  The wall colour is orange and the area is 245....    395.0  \n",
       "4  The wall colour is indigo and the area is 416....      NaN  "
      ]
     },
     "execution_count": 3,
     "metadata": {},
     "output_type": "execute_result"
    }
   ],
   "source": [
    "# Load in the energy.csv data\n",
    "df = pd.read_csv(\"energy_noisy_train.csv\")\n",
    "df.head()"
   ]
  },
  {
   "cell_type": "markdown",
   "metadata": {},
   "source": [
    "## Exploratory Data Analysis & Cleaning\n",
    "We need to do an EDA as well as clean the dataset. First we clean the dataset with a little bit of EDA to understand the data. "
   ]
  },
  {
   "cell_type": "code",
   "execution_count": 4,
   "metadata": {},
   "outputs": [
    {
     "data": {
      "text/plain": [
       "(538, 13)"
      ]
     },
     "execution_count": 4,
     "metadata": {},
     "output_type": "execute_result"
    }
   ],
   "source": [
    "# This code checks the shape of the dataframe. I.e. (Rows, Columns)\n",
    "df.shape"
   ]
  },
  {
   "cell_type": "markdown",
   "metadata": {},
   "source": [
    "We know from above that there are 538 Rows and 13 Columns"
   ]
  },
  {
   "cell_type": "code",
   "execution_count": 5,
   "metadata": {},
   "outputs": [
    {
     "data": {
      "text/plain": [
       "['Unnamed: 0',\n",
       " 'Relative Compactness',\n",
       " 'Roof Area',\n",
       " 'Overall Height',\n",
       " 'Orientation',\n",
       " 'Glazing Area',\n",
       " 'Glazing Area Distribution',\n",
       " 'Heating Load',\n",
       " 'Cooling Load',\n",
       " 'Location',\n",
       " 'surface_area_categories',\n",
       " 'wall_description',\n",
       " 'energxe']"
      ]
     },
     "execution_count": 5,
     "metadata": {},
     "output_type": "execute_result"
    }
   ],
   "source": [
    "# Now we'll check the list of columns to see if we can make sense of it\n",
    "list(df.columns)"
   ]
  },
  {
   "cell_type": "markdown",
   "metadata": {},
   "source": [
    "Make note, Unnamed:0 does not seem to mean anything at first glance, so we make note of this weird title, as a potential column to remove. It seems to be an old index from data saving etc. Everything else seems to serve a purpose and could contribute in what we want to predict. "
   ]
  },
  {
   "cell_type": "code",
   "execution_count": 6,
   "metadata": {},
   "outputs": [
    {
     "data": {
      "text/html": [
       "<div>\n",
       "<style scoped>\n",
       "    .dataframe tbody tr th:only-of-type {\n",
       "        vertical-align: middle;\n",
       "    }\n",
       "\n",
       "    .dataframe tbody tr th {\n",
       "        vertical-align: top;\n",
       "    }\n",
       "\n",
       "    .dataframe thead th {\n",
       "        text-align: right;\n",
       "    }\n",
       "</style>\n",
       "<table border=\"1\" class=\"dataframe\">\n",
       "  <thead>\n",
       "    <tr style=\"text-align: right;\">\n",
       "      <th></th>\n",
       "      <th>Unnamed: 0</th>\n",
       "      <th>Relative Compactness</th>\n",
       "      <th>Roof Area</th>\n",
       "      <th>Overall Height</th>\n",
       "      <th>Orientation</th>\n",
       "      <th>Glazing Area</th>\n",
       "      <th>Glazing Area Distribution</th>\n",
       "      <th>Heating Load</th>\n",
       "      <th>Cooling Load</th>\n",
       "      <th>Location</th>\n",
       "      <th>surface_area_categories</th>\n",
       "      <th>wall_description</th>\n",
       "      <th>energxe</th>\n",
       "    </tr>\n",
       "  </thead>\n",
       "  <tbody>\n",
       "    <tr>\n",
       "      <th>0</th>\n",
       "      <td>223</td>\n",
       "      <td>0.71</td>\n",
       "      <td>220.5</td>\n",
       "      <td>3.5</td>\n",
       "      <td>5</td>\n",
       "      <td>0.10</td>\n",
       "      <td>4.407175</td>\n",
       "      <td>10.72</td>\n",
       "      <td>14.20</td>\n",
       "      <td>Mountain</td>\n",
       "      <td>High Surface Area</td>\n",
       "      <td>The wall colour is green and the area is 269.5...</td>\n",
       "      <td>571.0</td>\n",
       "    </tr>\n",
       "    <tr>\n",
       "      <th>1</th>\n",
       "      <td>285</td>\n",
       "      <td>0.62</td>\n",
       "      <td>220.5</td>\n",
       "      <td>3.5</td>\n",
       "      <td>3</td>\n",
       "      <td>0.10</td>\n",
       "      <td>3.725392</td>\n",
       "      <td>12.74</td>\n",
       "      <td>13.97</td>\n",
       "      <td>City</td>\n",
       "      <td>Very High Surface Area</td>\n",
       "      <td>The wall colour is indigo and the area is 367....</td>\n",
       "      <td>NaN</td>\n",
       "    </tr>\n",
       "    <tr>\n",
       "      <th>2</th>\n",
       "      <td>350</td>\n",
       "      <td>0.82</td>\n",
       "      <td>147.0</td>\n",
       "      <td>7.0</td>\n",
       "      <td>4</td>\n",
       "      <td>0.25</td>\n",
       "      <td>1.530090</td>\n",
       "      <td>25.38</td>\n",
       "      <td>26.72</td>\n",
       "      <td>Countryside</td>\n",
       "      <td>Low Surface Area</td>\n",
       "      <td>The wall colour is orange and the area is 318....</td>\n",
       "      <td>NaN</td>\n",
       "    </tr>\n",
       "    <tr>\n",
       "      <th>3</th>\n",
       "      <td>363</td>\n",
       "      <td>0.74</td>\n",
       "      <td>220.5</td>\n",
       "      <td>3.5</td>\n",
       "      <td>5</td>\n",
       "      <td>0.25</td>\n",
       "      <td>2.007144</td>\n",
       "      <td>12.30</td>\n",
       "      <td>15.44</td>\n",
       "      <td>City</td>\n",
       "      <td>Average Surface Area</td>\n",
       "      <td>The wall colour is orange and the area is 245....</td>\n",
       "      <td>395.0</td>\n",
       "    </tr>\n",
       "    <tr>\n",
       "      <th>4</th>\n",
       "      <td>551</td>\n",
       "      <td>0.76</td>\n",
       "      <td>122.5</td>\n",
       "      <td>7.0</td>\n",
       "      <td>5</td>\n",
       "      <td>0.40</td>\n",
       "      <td>1.649852</td>\n",
       "      <td>40.43</td>\n",
       "      <td>39.48</td>\n",
       "      <td>Seaside</td>\n",
       "      <td>Average Surface Area</td>\n",
       "      <td>The wall colour is indigo and the area is 416....</td>\n",
       "      <td>NaN</td>\n",
       "    </tr>\n",
       "  </tbody>\n",
       "</table>\n",
       "</div>"
      ],
      "text/plain": [
       "   Unnamed: 0  Relative Compactness  Roof Area  Overall Height  Orientation  \\\n",
       "0         223                  0.71      220.5             3.5            5   \n",
       "1         285                  0.62      220.5             3.5            3   \n",
       "2         350                  0.82      147.0             7.0            4   \n",
       "3         363                  0.74      220.5             3.5            5   \n",
       "4         551                  0.76      122.5             7.0            5   \n",
       "\n",
       "   Glazing Area  Glazing Area Distribution  Heating Load  Cooling Load  \\\n",
       "0          0.10                   4.407175         10.72         14.20   \n",
       "1          0.10                   3.725392         12.74         13.97   \n",
       "2          0.25                   1.530090         25.38         26.72   \n",
       "3          0.25                   2.007144         12.30         15.44   \n",
       "4          0.40                   1.649852         40.43         39.48   \n",
       "\n",
       "      Location surface_area_categories  \\\n",
       "0     Mountain       High Surface Area   \n",
       "1         City  Very High Surface Area   \n",
       "2  Countryside        Low Surface Area   \n",
       "3         City    Average Surface Area   \n",
       "4      Seaside    Average Surface Area   \n",
       "\n",
       "                                    wall_description  energxe  \n",
       "0  The wall colour is green and the area is 269.5...    571.0  \n",
       "1  The wall colour is indigo and the area is 367....      NaN  \n",
       "2  The wall colour is orange and the area is 318....      NaN  \n",
       "3  The wall colour is orange and the area is 245....    395.0  \n",
       "4  The wall colour is indigo and the area is 416....      NaN  "
      ]
     },
     "execution_count": 6,
     "metadata": {},
     "output_type": "execute_result"
    }
   ],
   "source": [
    "# We now have a quick look at the data\n",
    "df.head()"
   ]
  },
  {
   "cell_type": "markdown",
   "metadata": {},
   "source": [
    "From above it seems (at first glance) Unnamed: 0 is a random number, still making note of this. Other columns, although units are unknown, seem to be important. Making note that there are a few categorical columns without numbers: Location, surface area categories, and possibly wall description. energxe is also an odd column which seems has alot of nulls.\n",
    "\n",
    "Make note that wall description has potentially useless data, i.e. the colour, and there is a number associated in each row. This could be useful. Make note to potentially extract colour and number from that column where possible"
   ]
  },
  {
   "cell_type": "code",
   "execution_count": 7,
   "metadata": {},
   "outputs": [
    {
     "data": {
      "text/plain": [
       "Unnamed: 0                     int64\n",
       "Relative Compactness         float64\n",
       "Roof Area                    float64\n",
       "Overall Height               float64\n",
       "Orientation                    int64\n",
       "Glazing Area                 float64\n",
       "Glazing Area Distribution    float64\n",
       "Heating Load                 float64\n",
       "Cooling Load                 float64\n",
       "Location                      object\n",
       "surface_area_categories       object\n",
       "wall_description              object\n",
       "energxe                      float64\n",
       "dtype: object"
      ]
     },
     "execution_count": 7,
     "metadata": {},
     "output_type": "execute_result"
    }
   ],
   "source": [
    "# Checking the data types so we understand the columns better\n",
    "df.dtypes"
   ]
  },
  {
   "cell_type": "markdown",
   "metadata": {},
   "source": [
    "Most are floats and integers. The categorical is an object. We make note of this. "
   ]
  },
  {
   "cell_type": "markdown",
   "metadata": {},
   "source": [
    "We have 3 columns that seeem categorical with strings, we want to see if this would be useful for us in a ML model. If every category has about 200 unique entries, then its too unique for an ML model. \n",
    "See below:"
   ]
  },
  {
   "cell_type": "code",
   "execution_count": 8,
   "metadata": {},
   "outputs": [
    {
     "name": "stdout",
     "output_type": "stream",
     "text": [
      "Location\n",
      "5\n",
      "surface_area_categories\n",
      "5\n",
      "wall_description\n",
      "56\n"
     ]
    }
   ],
   "source": [
    "STRING_COLUMNS = ['Location', 'surface_area_categories', 'wall_description']\n",
    "\n",
    "for col in STRING_COLUMNS:\n",
    "    number_unique = df[col].nunique()\n",
    "    print(col)\n",
    "    print(number_unique)"
   ]
  },
  {
   "cell_type": "markdown",
   "metadata": {},
   "source": [
    "Wall Description has 56 unique values in that column, this cannot be used as a categorical column. And previously we noted that its data is a bit messy. This can be cleaned by isolating colour and number. As we spot this, we can do this now."
   ]
  },
  {
   "cell_type": "code",
   "execution_count": 9,
   "metadata": {},
   "outputs": [
    {
     "data": {
      "text/html": [
       "<div>\n",
       "<style scoped>\n",
       "    .dataframe tbody tr th:only-of-type {\n",
       "        vertical-align: middle;\n",
       "    }\n",
       "\n",
       "    .dataframe tbody tr th {\n",
       "        vertical-align: top;\n",
       "    }\n",
       "\n",
       "    .dataframe thead th {\n",
       "        text-align: right;\n",
       "    }\n",
       "</style>\n",
       "<table border=\"1\" class=\"dataframe\">\n",
       "  <thead>\n",
       "    <tr style=\"text-align: right;\">\n",
       "      <th></th>\n",
       "      <th>Unnamed: 0</th>\n",
       "      <th>Relative Compactness</th>\n",
       "      <th>Roof Area</th>\n",
       "      <th>Overall Height</th>\n",
       "      <th>Orientation</th>\n",
       "      <th>Glazing Area</th>\n",
       "      <th>Glazing Area Distribution</th>\n",
       "      <th>Heating Load</th>\n",
       "      <th>Cooling Load</th>\n",
       "      <th>Location</th>\n",
       "      <th>surface_area_categories</th>\n",
       "      <th>wall_description</th>\n",
       "      <th>energxe</th>\n",
       "      <th>Wall Area</th>\n",
       "      <th>Colour</th>\n",
       "    </tr>\n",
       "  </thead>\n",
       "  <tbody>\n",
       "    <tr>\n",
       "      <th>0</th>\n",
       "      <td>223</td>\n",
       "      <td>0.71</td>\n",
       "      <td>220.5</td>\n",
       "      <td>3.5</td>\n",
       "      <td>5</td>\n",
       "      <td>0.10</td>\n",
       "      <td>4.407175</td>\n",
       "      <td>10.72</td>\n",
       "      <td>14.20</td>\n",
       "      <td>Mountain</td>\n",
       "      <td>High Surface Area</td>\n",
       "      <td>The wall colour is green and the area is 269.5...</td>\n",
       "      <td>571.0</td>\n",
       "      <td>269.5</td>\n",
       "      <td>green</td>\n",
       "    </tr>\n",
       "    <tr>\n",
       "      <th>1</th>\n",
       "      <td>285</td>\n",
       "      <td>0.62</td>\n",
       "      <td>220.5</td>\n",
       "      <td>3.5</td>\n",
       "      <td>3</td>\n",
       "      <td>0.10</td>\n",
       "      <td>3.725392</td>\n",
       "      <td>12.74</td>\n",
       "      <td>13.97</td>\n",
       "      <td>City</td>\n",
       "      <td>Very High Surface Area</td>\n",
       "      <td>The wall colour is indigo and the area is 367....</td>\n",
       "      <td>NaN</td>\n",
       "      <td>367.5</td>\n",
       "      <td>indigo</td>\n",
       "    </tr>\n",
       "    <tr>\n",
       "      <th>2</th>\n",
       "      <td>350</td>\n",
       "      <td>0.82</td>\n",
       "      <td>147.0</td>\n",
       "      <td>7.0</td>\n",
       "      <td>4</td>\n",
       "      <td>0.25</td>\n",
       "      <td>1.530090</td>\n",
       "      <td>25.38</td>\n",
       "      <td>26.72</td>\n",
       "      <td>Countryside</td>\n",
       "      <td>Low Surface Area</td>\n",
       "      <td>The wall colour is orange and the area is 318....</td>\n",
       "      <td>NaN</td>\n",
       "      <td>318.5</td>\n",
       "      <td>orange</td>\n",
       "    </tr>\n",
       "    <tr>\n",
       "      <th>3</th>\n",
       "      <td>363</td>\n",
       "      <td>0.74</td>\n",
       "      <td>220.5</td>\n",
       "      <td>3.5</td>\n",
       "      <td>5</td>\n",
       "      <td>0.25</td>\n",
       "      <td>2.007144</td>\n",
       "      <td>12.30</td>\n",
       "      <td>15.44</td>\n",
       "      <td>City</td>\n",
       "      <td>Average Surface Area</td>\n",
       "      <td>The wall colour is orange and the area is 245....</td>\n",
       "      <td>395.0</td>\n",
       "      <td>245.0</td>\n",
       "      <td>orange</td>\n",
       "    </tr>\n",
       "    <tr>\n",
       "      <th>4</th>\n",
       "      <td>551</td>\n",
       "      <td>0.76</td>\n",
       "      <td>122.5</td>\n",
       "      <td>7.0</td>\n",
       "      <td>5</td>\n",
       "      <td>0.40</td>\n",
       "      <td>1.649852</td>\n",
       "      <td>40.43</td>\n",
       "      <td>39.48</td>\n",
       "      <td>Seaside</td>\n",
       "      <td>Average Surface Area</td>\n",
       "      <td>The wall colour is indigo and the area is 416....</td>\n",
       "      <td>NaN</td>\n",
       "      <td>416.5</td>\n",
       "      <td>indigo</td>\n",
       "    </tr>\n",
       "  </tbody>\n",
       "</table>\n",
       "</div>"
      ],
      "text/plain": [
       "   Unnamed: 0  Relative Compactness  Roof Area  Overall Height  Orientation  \\\n",
       "0         223                  0.71      220.5             3.5            5   \n",
       "1         285                  0.62      220.5             3.5            3   \n",
       "2         350                  0.82      147.0             7.0            4   \n",
       "3         363                  0.74      220.5             3.5            5   \n",
       "4         551                  0.76      122.5             7.0            5   \n",
       "\n",
       "   Glazing Area  Glazing Area Distribution  Heating Load  Cooling Load  \\\n",
       "0          0.10                   4.407175         10.72         14.20   \n",
       "1          0.10                   3.725392         12.74         13.97   \n",
       "2          0.25                   1.530090         25.38         26.72   \n",
       "3          0.25                   2.007144         12.30         15.44   \n",
       "4          0.40                   1.649852         40.43         39.48   \n",
       "\n",
       "      Location surface_area_categories  \\\n",
       "0     Mountain       High Surface Area   \n",
       "1         City  Very High Surface Area   \n",
       "2  Countryside        Low Surface Area   \n",
       "3         City    Average Surface Area   \n",
       "4      Seaside    Average Surface Area   \n",
       "\n",
       "                                    wall_description  energxe  Wall Area  \\\n",
       "0  The wall colour is green and the area is 269.5...    571.0      269.5   \n",
       "1  The wall colour is indigo and the area is 367....      NaN      367.5   \n",
       "2  The wall colour is orange and the area is 318....      NaN      318.5   \n",
       "3  The wall colour is orange and the area is 245....    395.0      245.0   \n",
       "4  The wall colour is indigo and the area is 416....      NaN      416.5   \n",
       "\n",
       "   Colour  \n",
       "0   green  \n",
       "1  indigo  \n",
       "2  orange  \n",
       "3  orange  \n",
       "4  indigo  "
      ]
     },
     "execution_count": 9,
     "metadata": {},
     "output_type": "execute_result"
    }
   ],
   "source": [
    "# Recode surface area and extract useful text from wall_description\n",
    "def extract_figures(text, position = -3):\n",
    "    # text <- string to extract information from\n",
    "    # position <- integer that tells the position of number in string\n",
    "    listOfWords = text.split()\n",
    "    word = listOfWords[position]\n",
    "    return word\n",
    "\n",
    "df[\"Wall Area\"] = df[\"wall_description\"].apply(lambda x: float(extract_figures(x, -3)))\n",
    "df[\"Colour\"] = df[\"wall_description\"].apply(lambda x: extract_figures(x, 4))\n",
    "df.head()"
   ]
  },
  {
   "cell_type": "markdown",
   "metadata": {},
   "source": [
    "As seen above, you've created colour column and Wall Area, we can now drop wall_description. Wall area is now a number and colour is categorical. "
   ]
  },
  {
   "cell_type": "code",
   "execution_count": 141,
   "metadata": {},
   "outputs": [],
   "source": [
    "df.drop(columns = 'wall_description', inplace = True)"
   ]
  },
  {
   "cell_type": "code",
   "execution_count": 142,
   "metadata": {},
   "outputs": [
    {
     "data": {
      "text/plain": [
       "8"
      ]
     },
     "execution_count": 142,
     "metadata": {},
     "output_type": "execute_result"
    }
   ],
   "source": [
    "# Checking that colour does not have too many categories:\n",
    "df['Colour'].nunique()"
   ]
  },
  {
   "cell_type": "markdown",
   "metadata": {},
   "source": [
    "8 is small enough to be considered a categorical column, however make note that colour probably has nothing to do with heating load (logically) so we should keep that in mind"
   ]
  },
  {
   "cell_type": "markdown",
   "metadata": {},
   "source": [
    "Now we check the nulls."
   ]
  },
  {
   "cell_type": "code",
   "execution_count": 143,
   "metadata": {},
   "outputs": [
    {
     "data": {
      "text/plain": [
       "<AxesSubplot:>"
      ]
     },
     "execution_count": 143,
     "metadata": {},
     "output_type": "execute_result"
    },
    {
     "data": {
      "image/png": "[encoded data removed]",
      "text/plain": [
       "<Figure size 432x288 with 2 Axes>"
      ]
     },
     "metadata": {
      "needs_background": "light"
     },
     "output_type": "display_data"
    }
   ],
   "source": [
    "#Checking the Null values graphically\n",
    "sns.heatmap(df.isnull(),yticklabels=False, cmap='viridis')"
   ]
  },
  {
   "cell_type": "code",
   "execution_count": 144,
   "metadata": {},
   "outputs": [
    {
     "data": {
      "text/plain": [
       "Unnamed: 0                     0\n",
       "Relative Compactness           0\n",
       "Roof Area                      0\n",
       "Overall Height                 0\n",
       "Orientation                    0\n",
       "Glazing Area                   0\n",
       "Glazing Area Distribution      0\n",
       "Heating Load                   0\n",
       "Location                       0\n",
       "surface_area_categories        5\n",
       "energxe                      349\n",
       "Wall Area                      0\n",
       "Colour                         0\n",
       "dtype: int64"
      ]
     },
     "execution_count": 144,
     "metadata": {},
     "output_type": "execute_result"
    }
   ],
   "source": [
    "df.isnull().sum()"
   ]
  },
  {
   "cell_type": "code",
   "execution_count": 145,
   "metadata": {
    "scrolled": true
   },
   "outputs": [
    {
     "data": {
      "text/plain": [
       "538"
      ]
     },
     "execution_count": 145,
     "metadata": {},
     "output_type": "execute_result"
    }
   ],
   "source": [
    "len(df)"
   ]
  },
  {
   "cell_type": "markdown",
   "metadata": {},
   "source": [
    "You can drop those rows as its so small. and drop the column energxe as it has too many nulls to even derive a relationship.\n",
    "\n",
    "Other ways to deal with nulls is to impute it with the average or median, but in this case. Not required. "
   ]
  },
  {
   "cell_type": "code",
   "execution_count": 146,
   "metadata": {},
   "outputs": [],
   "source": [
    "df.drop(columns = 'energxe', inplace = True)\n",
    "df.dropna(inplace = True)"
   ]
  },
  {
   "cell_type": "code",
   "execution_count": 147,
   "metadata": {},
   "outputs": [
    {
     "data": {
      "text/plain": [
       "Unnamed: 0                   0\n",
       "Relative Compactness         0\n",
       "Roof Area                    0\n",
       "Overall Height               0\n",
       "Orientation                  0\n",
       "Glazing Area                 0\n",
       "Glazing Area Distribution    0\n",
       "Heating Load                 0\n",
       "Location                     0\n",
       "surface_area_categories      0\n",
       "Wall Area                    0\n",
       "Colour                       0\n",
       "dtype: int64"
      ]
     },
     "execution_count": 147,
     "metadata": {},
     "output_type": "execute_result"
    }
   ],
   "source": [
    "df.isnull().sum()"
   ]
  },
  {
   "cell_type": "markdown",
   "metadata": {},
   "source": [
    "Now data seems clean at a glance, we should start doing explorations to see if it can be cleaned more/if theres some redundent stuff in there. "
   ]
  },
  {
   "cell_type": "code",
   "execution_count": 148,
   "metadata": {},
   "outputs": [
    {
     "data": {
      "image/png": "[encoded data removed]",
      "text/plain": [
       "<Figure size 1152x432 with 2 Axes>"
      ]
     },
     "metadata": {
      "needs_background": "light"
     },
     "output_type": "display_data"
    }
   ],
   "source": [
    "plt.figure(figsize=(16, 6))\n",
    "# Store heatmap object in a variable to easily access it when you want to include more features (such as title).\n",
    "# Set the range of values to be displayed on the colormap from -1 to 1, and set the annotation to True to display the correlation values on the heatmap.\n",
    "heatmap = sns.heatmap(df.corr(), vmin=-1, vmax=1, annot=True)\n",
    "# Give a title to the heatmap. Pad defines the distance of the title from the top of the heatmap.\n",
    "heatmap.set_title('Correlation Heatmap', fontdict={'fontsize':12}, pad=12);"
   ]
  },
  {
   "cell_type": "markdown",
   "metadata": {},
   "source": [
    "Explanation as to why we drop the unnamed, and note nothing really stands out with heating load."
   ]
  },
  {
   "cell_type": "markdown",
   "metadata": {},
   "source": [
    "Some explorations noting the categorical features. "
   ]
  },
  {
   "cell_type": "code",
   "execution_count": 149,
   "metadata": {},
   "outputs": [],
   "source": [
    "df.drop(columns = 'Unnamed: 0', inplace = True)"
   ]
  },
  {
   "cell_type": "markdown",
   "metadata": {},
   "source": [
    "With categorical feature, you see that colour is just random, so we remove this. Plot the relative compactness vs heatingload, we see a good relationship there. Others are just linear regression needed. \n",
    "\n",
    "Then write a summary of the actions and data manipulation actions we did to get the model at a clean state to do the ML. and then run the ML, conclude there. "
   ]
  },
  {
   "cell_type": "code",
   "execution_count": 150,
   "metadata": {},
   "outputs": [],
   "source": [
    "df.drop(columns = 'Colour', inplace = True)"
   ]
  },
  {
   "cell_type": "code",
   "execution_count": 151,
   "metadata": {},
   "outputs": [
    {
     "data": {
      "image/png": "[encoded data removed]",
      "text/plain": [
       "<Figure size 1620x180 with 9 Axes>"
      ]
     },
     "metadata": {
      "needs_background": "light"
     },
     "output_type": "display_data"
    }
   ],
   "source": [
    "# Verify linear relationship\n",
    "columns = list(df)\n",
    "\n",
    "columns.remove(\"Heating Load\")\n",
    "\n",
    "g = sns.pairplot(df, \n",
    "                 x_vars=columns,\n",
    "                 y_vars=[\"Heating Load\"])\n",
    "\n",
    "plt.show()"
   ]
  },
  {
   "cell_type": "markdown",
   "metadata": {},
   "source": [
    "Take a look at the graphs above! Something stands out on the Relative Compactness, Roof Area, Overall Height and Orientation graphs! Those are likely extreme values and should be removed before proceeding to fit any machine learning model.\n",
    "\n",
    "While we're at it - there are 2 extreme observations for the variables we want to predict (Heating & Cooling load) that we should remove as well."
   ]
  },
  {
   "cell_type": "code",
   "execution_count": 152,
   "metadata": {},
   "outputs": [],
   "source": [
    "df.drop(df[df[\"Relative Compactness\"] > 1.5].index, inplace=True)\n",
    "df.drop(df[df[\"Roof Area\"] > 1000].index, inplace=True)\n",
    "df.drop(df[df[\"Overall Height\"] > 600].index, inplace=True)\n",
    "df.drop(df[df[\"Orientation\"] > 300].index, inplace=True)\n",
    "df.drop(df[df[\"Glazing Area\"] > 0.75].index, inplace=True)\n",
    "\n",
    "df.drop(df[df[\"Heating Load\"] > 100].index, inplace=True)"
   ]
  },
  {
   "cell_type": "code",
   "execution_count": 153,
   "metadata": {},
   "outputs": [
    {
     "data": {
      "text/html": [
       "<div>\n",
       "<style scoped>\n",
       "    .dataframe tbody tr th:only-of-type {\n",
       "        vertical-align: middle;\n",
       "    }\n",
       "\n",
       "    .dataframe tbody tr th {\n",
       "        vertical-align: top;\n",
       "    }\n",
       "\n",
       "    .dataframe thead th {\n",
       "        text-align: right;\n",
       "    }\n",
       "</style>\n",
       "<table border=\"1\" class=\"dataframe\">\n",
       "  <thead>\n",
       "    <tr style=\"text-align: right;\">\n",
       "      <th></th>\n",
       "      <th>Relative Compactness</th>\n",
       "      <th>Roof Area</th>\n",
       "      <th>Overall Height</th>\n",
       "      <th>Glazing Area</th>\n",
       "      <th>Glazing Area Distribution</th>\n",
       "      <th>Heating Load</th>\n",
       "      <th>Wall Area</th>\n",
       "      <th>Very Low Surface Area</th>\n",
       "      <th>Low Surface Area</th>\n",
       "      <th>Average Surface Area</th>\n",
       "      <th>...</th>\n",
       "      <th>Very High Surface Area</th>\n",
       "      <th>North Orientation</th>\n",
       "      <th>East Orientation</th>\n",
       "      <th>South Orientation</th>\n",
       "      <th>West Orientation</th>\n",
       "      <th>Mountain</th>\n",
       "      <th>City</th>\n",
       "      <th>Countryside</th>\n",
       "      <th>Seaside</th>\n",
       "      <th>Lakeside</th>\n",
       "    </tr>\n",
       "  </thead>\n",
       "  <tbody>\n",
       "    <tr>\n",
       "      <th>0</th>\n",
       "      <td>0.71</td>\n",
       "      <td>220.5</td>\n",
       "      <td>3.5</td>\n",
       "      <td>0.10</td>\n",
       "      <td>4.407175</td>\n",
       "      <td>10.72</td>\n",
       "      <td>269.5</td>\n",
       "      <td>0</td>\n",
       "      <td>1</td>\n",
       "      <td>0</td>\n",
       "      <td>...</td>\n",
       "      <td>0</td>\n",
       "      <td>0</td>\n",
       "      <td>0</td>\n",
       "      <td>0</td>\n",
       "      <td>1</td>\n",
       "      <td>0</td>\n",
       "      <td>0</td>\n",
       "      <td>0</td>\n",
       "      <td>1</td>\n",
       "      <td>0</td>\n",
       "    </tr>\n",
       "    <tr>\n",
       "      <th>1</th>\n",
       "      <td>0.62</td>\n",
       "      <td>220.5</td>\n",
       "      <td>3.5</td>\n",
       "      <td>0.10</td>\n",
       "      <td>3.725392</td>\n",
       "      <td>12.74</td>\n",
       "      <td>367.5</td>\n",
       "      <td>0</td>\n",
       "      <td>0</td>\n",
       "      <td>0</td>\n",
       "      <td>...</td>\n",
       "      <td>0</td>\n",
       "      <td>0</td>\n",
       "      <td>1</td>\n",
       "      <td>0</td>\n",
       "      <td>0</td>\n",
       "      <td>1</td>\n",
       "      <td>0</td>\n",
       "      <td>0</td>\n",
       "      <td>0</td>\n",
       "      <td>0</td>\n",
       "    </tr>\n",
       "    <tr>\n",
       "      <th>2</th>\n",
       "      <td>0.82</td>\n",
       "      <td>147.0</td>\n",
       "      <td>7.0</td>\n",
       "      <td>0.25</td>\n",
       "      <td>1.530090</td>\n",
       "      <td>25.38</td>\n",
       "      <td>318.5</td>\n",
       "      <td>0</td>\n",
       "      <td>0</td>\n",
       "      <td>1</td>\n",
       "      <td>...</td>\n",
       "      <td>0</td>\n",
       "      <td>0</td>\n",
       "      <td>0</td>\n",
       "      <td>1</td>\n",
       "      <td>0</td>\n",
       "      <td>0</td>\n",
       "      <td>1</td>\n",
       "      <td>0</td>\n",
       "      <td>0</td>\n",
       "      <td>0</td>\n",
       "    </tr>\n",
       "    <tr>\n",
       "      <th>3</th>\n",
       "      <td>0.74</td>\n",
       "      <td>220.5</td>\n",
       "      <td>3.5</td>\n",
       "      <td>0.25</td>\n",
       "      <td>2.007144</td>\n",
       "      <td>12.30</td>\n",
       "      <td>245.0</td>\n",
       "      <td>1</td>\n",
       "      <td>0</td>\n",
       "      <td>0</td>\n",
       "      <td>...</td>\n",
       "      <td>0</td>\n",
       "      <td>0</td>\n",
       "      <td>0</td>\n",
       "      <td>0</td>\n",
       "      <td>1</td>\n",
       "      <td>1</td>\n",
       "      <td>0</td>\n",
       "      <td>0</td>\n",
       "      <td>0</td>\n",
       "      <td>0</td>\n",
       "    </tr>\n",
       "    <tr>\n",
       "      <th>4</th>\n",
       "      <td>0.76</td>\n",
       "      <td>122.5</td>\n",
       "      <td>7.0</td>\n",
       "      <td>0.40</td>\n",
       "      <td>1.649852</td>\n",
       "      <td>40.43</td>\n",
       "      <td>416.5</td>\n",
       "      <td>1</td>\n",
       "      <td>0</td>\n",
       "      <td>0</td>\n",
       "      <td>...</td>\n",
       "      <td>0</td>\n",
       "      <td>0</td>\n",
       "      <td>0</td>\n",
       "      <td>0</td>\n",
       "      <td>1</td>\n",
       "      <td>0</td>\n",
       "      <td>0</td>\n",
       "      <td>0</td>\n",
       "      <td>0</td>\n",
       "      <td>1</td>\n",
       "    </tr>\n",
       "  </tbody>\n",
       "</table>\n",
       "<p>5 rows × 21 columns</p>\n",
       "</div>"
      ],
      "text/plain": [
       "   Relative Compactness  Roof Area  Overall Height  Glazing Area  \\\n",
       "0                  0.71      220.5             3.5          0.10   \n",
       "1                  0.62      220.5             3.5          0.10   \n",
       "2                  0.82      147.0             7.0          0.25   \n",
       "3                  0.74      220.5             3.5          0.25   \n",
       "4                  0.76      122.5             7.0          0.40   \n",
       "\n",
       "   Glazing Area Distribution  Heating Load  Wall Area  Very Low Surface Area  \\\n",
       "0                   4.407175         10.72      269.5                      0   \n",
       "1                   3.725392         12.74      367.5                      0   \n",
       "2                   1.530090         25.38      318.5                      0   \n",
       "3                   2.007144         12.30      245.0                      1   \n",
       "4                   1.649852         40.43      416.5                      1   \n",
       "\n",
       "   Low Surface Area  Average Surface Area  ...  Very High Surface Area  \\\n",
       "0                 1                     0  ...                       0   \n",
       "1                 0                     0  ...                       0   \n",
       "2                 0                     1  ...                       0   \n",
       "3                 0                     0  ...                       0   \n",
       "4                 0                     0  ...                       0   \n",
       "\n",
       "   North Orientation  East Orientation  South Orientation  West Orientation  \\\n",
       "0                  0                 0                  0                 1   \n",
       "1                  0                 1                  0                 0   \n",
       "2                  0                 0                  1                 0   \n",
       "3                  0                 0                  0                 1   \n",
       "4                  0                 0                  0                 1   \n",
       "\n",
       "   Mountain  City  Countryside  Seaside  Lakeside  \n",
       "0         0     0            0        1         0  \n",
       "1         1     0            0        0         0  \n",
       "2         0     1            0        0         0  \n",
       "3         1     0            0        0         0  \n",
       "4         0     0            0        0         1  \n",
       "\n",
       "[5 rows x 21 columns]"
      ]
     },
     "execution_count": 153,
     "metadata": {},
     "output_type": "execute_result"
    }
   ],
   "source": [
    "# Create dummy variables - NOTE: Has to be done AFTER extreme values are removed\n",
    "\n",
    "# Create dummy variables out of surface area categories\n",
    "colNames = [\"Very Low Surface Area\", \"Low Surface Area\", \"Average Surface Area\", \"High Surface Area\", \"Very High Surface Area\"]\n",
    "df[colNames] = pd.get_dummies(df[\"surface_area_categories\"],dtype=int)\n",
    "\n",
    "# Create dummy values for Orientation\n",
    "colNames = [\"North Orientation\", \"East Orientation\", \"South Orientation\", \"West Orientation\"]\n",
    "df[colNames] = pd.get_dummies(df[\"Orientation\"],dtype=int)\n",
    "\n",
    "# Create dummy columns for location variable\n",
    "colNames = [\"Mountain\", \"City\", \"Countryside\", \"Seaside\", \"Lakeside\"]\n",
    "df[colNames] = pd.get_dummies(df[\"Location\"],dtype=int)\n",
    "\n",
    "# Drop redundant columns\n",
    "df.drop(labels=[\"surface_area_categories\", \"Orientation\", \"Location\"], axis=1, inplace=True)\n",
    "df.head()"
   ]
  },
  {
   "cell_type": "code",
   "execution_count": 154,
   "metadata": {},
   "outputs": [],
   "source": [
    "# Playground area - edits these and see how the model Linear Regression model changes!\n",
    "depVars = ['Relative Compactness', \n",
    "'Roof Area', \n",
    "'Overall Height', \n",
    "#\"North Orientation\",\n",
    "#\"East Orientation\",\n",
    "#\"South Orientation\",\n",
    "#\"West Orientation\" \n",
    "'Glazing Area', \n",
    "'Glazing Area Distribution', \n",
    "#\"Mountain\",\n",
    "#\"City\",\n",
    "#\"Countryside\",\n",
    "#\"Seaside\",\n",
    "#\"Lakeside\"\n",
    "'Wall Area', \n",
    "'Very Low Surface Area', \n",
    "'Low Surface Area', \n",
    "'Average Surface Area', \n",
    "'High Surface Area', \n",
    "'Very High Surface Area']\n",
    "\n",
    "outcomeVar = \"Heating Load\"\n",
    "\n",
    "numberOfFolds = 3\n",
    "randomSeed = 42"
   ]
  },
  {
   "cell_type": "code",
   "execution_count": 155,
   "metadata": {},
   "outputs": [
    {
     "data": {
      "text/plain": [
       "[0.9729227623373188, 0.9699769716590502, 0.9748411721612356]"
      ]
     },
     "execution_count": 155,
     "metadata": {},
     "output_type": "execute_result"
    }
   ],
   "source": [
    "# Now build the Linear Model from settings above\n",
    "X = pd.DataFrame(df[depVars])\n",
    "Y = pd.DataFrame(df[outcomeVar])\n",
    "\n",
    "model = LinearRegression()\n",
    "rScores = list()\n",
    "kFold = KFold(n_splits=numberOfFolds, shuffle=True, random_state=randomSeed)\n",
    "\n",
    "for _, (train, test) in enumerate(kFold.split(X, Y)):\n",
    "    model.fit(X.iloc[train,:], Y.iloc[train,:])\n",
    "    score = model.score(X.iloc[test,:], Y.iloc[test,:])\n",
    "    rScores.append(score)\n",
    "\n",
    "rScores"
   ]
  },
  {
   "cell_type": "markdown",
   "metadata": {},
   "source": [
    "While the R-squared metric should be within [0,1], in some cases it is possible to obtain negative values when the test data mean is substantially different from the training data mean. In all cases, lower values imply that the model is worse at explaining the variation."
   ]
  },
  {
   "cell_type": "code",
   "execution_count": 156,
   "metadata": {},
   "outputs": [
    {
     "data": {
      "text/html": [
       "<div>\n",
       "<style scoped>\n",
       "    .dataframe tbody tr th:only-of-type {\n",
       "        vertical-align: middle;\n",
       "    }\n",
       "\n",
       "    .dataframe tbody tr th {\n",
       "        vertical-align: top;\n",
       "    }\n",
       "\n",
       "    .dataframe thead th {\n",
       "        text-align: right;\n",
       "    }\n",
       "</style>\n",
       "<table border=\"1\" class=\"dataframe\">\n",
       "  <thead>\n",
       "    <tr style=\"text-align: right;\">\n",
       "      <th></th>\n",
       "      <th>Feature</th>\n",
       "      <th>Coefficients</th>\n",
       "    </tr>\n",
       "  </thead>\n",
       "  <tbody>\n",
       "    <tr>\n",
       "      <th>0</th>\n",
       "      <td>Relative Compactness</td>\n",
       "      <td>34.835775</td>\n",
       "    </tr>\n",
       "    <tr>\n",
       "      <th>1</th>\n",
       "      <td>Roof Area</td>\n",
       "      <td>0.281596</td>\n",
       "    </tr>\n",
       "    <tr>\n",
       "      <th>2</th>\n",
       "      <td>Overall Height</td>\n",
       "      <td>11.640947</td>\n",
       "    </tr>\n",
       "    <tr>\n",
       "      <th>3</th>\n",
       "      <td>Glazing Area</td>\n",
       "      <td>19.886372</td>\n",
       "    </tr>\n",
       "    <tr>\n",
       "      <th>4</th>\n",
       "      <td>Glazing Area Distribution</td>\n",
       "      <td>0.059157</td>\n",
       "    </tr>\n",
       "    <tr>\n",
       "      <th>5</th>\n",
       "      <td>Wall Area</td>\n",
       "      <td>0.054888</td>\n",
       "    </tr>\n",
       "    <tr>\n",
       "      <th>6</th>\n",
       "      <td>Very Low Surface Area</td>\n",
       "      <td>3.074971</td>\n",
       "    </tr>\n",
       "    <tr>\n",
       "      <th>7</th>\n",
       "      <td>Low Surface Area</td>\n",
       "      <td>2.645203</td>\n",
       "    </tr>\n",
       "    <tr>\n",
       "      <th>8</th>\n",
       "      <td>Average Surface Area</td>\n",
       "      <td>-8.686788</td>\n",
       "    </tr>\n",
       "    <tr>\n",
       "      <th>9</th>\n",
       "      <td>High Surface Area</td>\n",
       "      <td>3.828052</td>\n",
       "    </tr>\n",
       "    <tr>\n",
       "      <th>10</th>\n",
       "      <td>Very High Surface Area</td>\n",
       "      <td>-0.861438</td>\n",
       "    </tr>\n",
       "  </tbody>\n",
       "</table>\n",
       "</div>"
      ],
      "text/plain": [
       "                      Feature  Coefficients\n",
       "0        Relative Compactness     34.835775\n",
       "1                   Roof Area      0.281596\n",
       "2              Overall Height     11.640947\n",
       "3                Glazing Area     19.886372\n",
       "4   Glazing Area Distribution      0.059157\n",
       "5                   Wall Area      0.054888\n",
       "6       Very Low Surface Area      3.074971\n",
       "7            Low Surface Area      2.645203\n",
       "8        Average Surface Area     -8.686788\n",
       "9           High Surface Area      3.828052\n",
       "10     Very High Surface Area     -0.861438"
      ]
     },
     "execution_count": 156,
     "metadata": {},
     "output_type": "execute_result"
    }
   ],
   "source": [
    "# Check estimated coefficients\n",
    "pretty_print_coefficients(model, depVars)"
   ]
  },
  {
   "cell_type": "code",
   "execution_count": 157,
   "metadata": {},
   "outputs": [
    {
     "data": {
      "text/plain": [
       "array([[41.59782143]])"
      ]
     },
     "execution_count": 157,
     "metadata": {},
     "output_type": "execute_result"
    }
   ],
   "source": [
    "# Use trained model for prediction\n",
    "newData = pd.DataFrame({\n",
    "'Relative Compactness': 0.8, \n",
    "'Roof Area': 150, \n",
    "'Overall Height': 7, \n",
    "#\"North Orientation\": 0,\n",
    "#\"East Orientation\": 0,\n",
    "#\"South Orientation\": 1,\n",
    "#\"West Orientation\": 0,\n",
    "'Glazing Area': 0.45, \n",
    "'Glazing Area Distribution': 5, \n",
    "#\"Mountain\": 0,\n",
    "#\"City\": 1,\n",
    "#\"Countryside\": 0,\n",
    "#\"Seaside\": 0,\n",
    "#\"Lakeside\": 0,\n",
    "'Wall Area': 500, \n",
    "'Very Low Surface Area': 0, \n",
    "'Low Surface Area': 0, \n",
    "'Average Surface Area': 1, \n",
    "'High Surface Area': 0, \n",
    "'Very High Surface Area': 0\n",
    "}, index=[0])\n",
    "\n",
    "model.predict(newData)"
   ]
  },
  {
   "cell_type": "code",
   "execution_count": 158,
   "metadata": {},
   "outputs": [],
   "source": [
    "# Playground area - edits these and see how the Ridge Regression model changes!\n",
    "depVars = ['Relative Compactness', \n",
    "'Roof Area', \n",
    "'Overall Height', \n",
    "#\"North Orientation\",\n",
    "#\"East Orientation\",\n",
    "#\"South Orientation\",\n",
    "#\"West Orientation\" \n",
    "'Glazing Area', \n",
    "'Glazing Area Distribution', \n",
    "#\"Mountain\",\n",
    "#\"City\",\n",
    "#\"Countryside\",\n",
    "#\"Seaside\",\n",
    "#\"Lakeside\"\n",
    "'Wall Area', \n",
    "'Very Low Surface Area', \n",
    "'Low Surface Area', \n",
    "'Average Surface Area', \n",
    "'High Surface Area', \n",
    "'Very High Surface Area']\n",
    "\n",
    "outcomeVar = \"Heating Load\"\n",
    "numberOfFolds = 3\n",
    "randomSeed = 42\n",
    "penaltyParameter = 1\n",
    "standardizeData = True"
   ]
  },
  {
   "cell_type": "code",
   "execution_count": 159,
   "metadata": {},
   "outputs": [],
   "source": [
    "# Takes care of data standardization process (only run once)\n",
    "scaler = StandardScaler()\n",
    "\n",
    "if standardizeData:\n",
    "    scaledData = scaler.fit_transform(df.values)\n",
    "    standardDf = pd.DataFrame(scaledData, index=df.index, columns=df.columns)\n",
    "\n",
    "else:\n",
    "    standardDf = df"
   ]
  },
  {
   "cell_type": "code",
   "execution_count": 160,
   "metadata": {},
   "outputs": [
    {
     "data": {
      "text/plain": [
       "[0.9707708511050506, 0.9659390316672639, 0.9719284995064601]"
      ]
     },
     "execution_count": 160,
     "metadata": {},
     "output_type": "execute_result"
    }
   ],
   "source": [
    "# Fit actual Ridge Regression model\n",
    "X = pd.DataFrame(standardDf[depVars])\n",
    "Y = pd.DataFrame(standardDf[outcomeVar])\n",
    "\n",
    "model = Ridge(alpha=penaltyParameter)\n",
    "rScores = list()\n",
    "kFold = KFold(n_splits=numberOfFolds, shuffle=True, random_state=randomSeed)\n",
    "\n",
    "for _, (train, test) in enumerate(kFold.split(X, Y)):\n",
    "    model.fit(X.iloc[train,:], Y.iloc[train,:])\n",
    "    score = model.score(X.iloc[test,:], Y.iloc[test,:])\n",
    "    rScores.append(score)\n",
    "\n",
    "rScores"
   ]
  },
  {
   "cell_type": "code",
   "execution_count": 161,
   "metadata": {},
   "outputs": [
    {
     "data": {
      "text/html": [
       "<div>\n",
       "<style scoped>\n",
       "    .dataframe tbody tr th:only-of-type {\n",
       "        vertical-align: middle;\n",
       "    }\n",
       "\n",
       "    .dataframe tbody tr th {\n",
       "        vertical-align: top;\n",
       "    }\n",
       "\n",
       "    .dataframe thead th {\n",
       "        text-align: right;\n",
       "    }\n",
       "</style>\n",
       "<table border=\"1\" class=\"dataframe\">\n",
       "  <thead>\n",
       "    <tr style=\"text-align: right;\">\n",
       "      <th></th>\n",
       "      <th>Feature</th>\n",
       "      <th>Coefficients</th>\n",
       "    </tr>\n",
       "  </thead>\n",
       "  <tbody>\n",
       "    <tr>\n",
       "      <th>0</th>\n",
       "      <td>Relative Compactness</td>\n",
       "      <td>-0.087442</td>\n",
       "    </tr>\n",
       "    <tr>\n",
       "      <th>1</th>\n",
       "      <td>Roof Area</td>\n",
       "      <td>0.338641</td>\n",
       "    </tr>\n",
       "    <tr>\n",
       "      <th>2</th>\n",
       "      <td>Overall Height</td>\n",
       "      <td>1.596064</td>\n",
       "    </tr>\n",
       "    <tr>\n",
       "      <th>3</th>\n",
       "      <td>Glazing Area</td>\n",
       "      <td>0.264607</td>\n",
       "    </tr>\n",
       "    <tr>\n",
       "      <th>4</th>\n",
       "      <td>Glazing Area Distribution</td>\n",
       "      <td>0.011261</td>\n",
       "    </tr>\n",
       "    <tr>\n",
       "      <th>5</th>\n",
       "      <td>Wall Area</td>\n",
       "      <td>-0.009486</td>\n",
       "    </tr>\n",
       "    <tr>\n",
       "      <th>6</th>\n",
       "      <td>Very Low Surface Area</td>\n",
       "      <td>0.102896</td>\n",
       "    </tr>\n",
       "    <tr>\n",
       "      <th>7</th>\n",
       "      <td>Low Surface Area</td>\n",
       "      <td>0.073847</td>\n",
       "    </tr>\n",
       "    <tr>\n",
       "      <th>8</th>\n",
       "      <td>Average Surface Area</td>\n",
       "      <td>-0.310171</td>\n",
       "    </tr>\n",
       "    <tr>\n",
       "      <th>9</th>\n",
       "      <td>High Surface Area</td>\n",
       "      <td>0.176576</td>\n",
       "    </tr>\n",
       "    <tr>\n",
       "      <th>10</th>\n",
       "      <td>Very High Surface Area</td>\n",
       "      <td>-0.084629</td>\n",
       "    </tr>\n",
       "  </tbody>\n",
       "</table>\n",
       "</div>"
      ],
      "text/plain": [
       "                      Feature  Coefficients\n",
       "0        Relative Compactness     -0.087442\n",
       "1                   Roof Area      0.338641\n",
       "2              Overall Height      1.596064\n",
       "3                Glazing Area      0.264607\n",
       "4   Glazing Area Distribution      0.011261\n",
       "5                   Wall Area     -0.009486\n",
       "6       Very Low Surface Area      0.102896\n",
       "7            Low Surface Area      0.073847\n",
       "8        Average Surface Area     -0.310171\n",
       "9           High Surface Area      0.176576\n",
       "10     Very High Surface Area     -0.084629"
      ]
     },
     "execution_count": 161,
     "metadata": {},
     "output_type": "execute_result"
    }
   ],
   "source": [
    "# Ridge regression coefficients = higher values indicate better correlation between predictor and outcome\n",
    "pretty_print_coefficients(model, depVars)"
   ]
  },
  {
   "cell_type": "code",
   "execution_count": 162,
   "metadata": {},
   "outputs": [
    {
     "data": {
      "text/plain": [
       "array([[57.02127935]])"
      ]
     },
     "execution_count": 162,
     "metadata": {},
     "output_type": "execute_result"
    }
   ],
   "source": [
    "# Prediction using Ridge Regression\n",
    "# Use trained model for prediction\n",
    "newData = pd.DataFrame({\n",
    "'Relative Compactness': 0.8, \n",
    "'Roof Area': 150, \n",
    "'Overall Height': 7, \n",
    "#\"North Orientation\": 0,\n",
    "#\"East Orientation\": 0,\n",
    "#\"South Orientation\": 1,\n",
    "#\"West Orientation\": 0,\n",
    "'Glazing Area': 0.45, \n",
    "'Glazing Area Distribution': 5, \n",
    "#\"Mountain\": 0,\n",
    "#\"City\": 1,\n",
    "#\"Countryside\": 0,\n",
    "#\"Seaside\": 0,\n",
    "#\"Lakeside\": 0,\n",
    "'Wall Area': 500, \n",
    "'Very Low Surface Area': 0, \n",
    "'Low Surface Area': 0, \n",
    "'Average Surface Area': 1, \n",
    "'High Surface Area': 0, \n",
    "'Very High Surface Area': 0\n",
    "}, index=[0])\n",
    "\n",
    "model.predict(newData)"
   ]
  },
  {
   "cell_type": "code",
   "execution_count": 163,
   "metadata": {},
   "outputs": [
    {
     "data": {
      "text/plain": [
       "-9805.406099036138"
      ]
     },
     "execution_count": 163,
     "metadata": {},
     "output_type": "execute_result"
    }
   ],
   "source": [
    "# TODO: Internal use only - for scoring submissions\n",
    "columns = ['Relative Compactness', \n",
    "'Roof Area', \n",
    "'Overall Height', \n",
    "#'Orientation', \n",
    "'Glazing Area', \n",
    "'Glazing Area Distribution', \n",
    "#'Location', \n",
    "'Wall Area', \n",
    "'Very Low Surface Area', \n",
    "'Low Surface Area', \n",
    "'Average Surface Area', \n",
    "'High Surface Area', \n",
    "'Very High Surface Area']\n",
    "\n",
    "df_test = pd.read_csv(\"energy_noisy_test.csv\")\n",
    "\n",
    "predictions = model.predict(df_test[columns])\n",
    "\n",
    "errors = np.abs(np.array(predictions).flatten() - df_test[\"Heating Load\"])\n",
    "totalScore = (-1)*np.sum(errors)\n",
    "\n",
    "totalScore"
   ]
  }
 ],
 "metadata": {
  "interpreter": {
   "hash": "31f2aee4e71d21fbe5cf8b01ff0e069b9275f58929596ceb00d14d90e3e16cd6"
  },
  "kernelspec": {
   "display_name": "Python 3",
   "language": "python",
   "name": "python3"
  },
  "language_info": {
   "codemirror_mode": {
    "name": "ipython",
    "version": 3
   },
   "file_extension": ".py",
   "mimetype": "text/x-python",
   "name": "python",
   "nbconvert_exporter": "python",
   "pygments_lexer": "ipython3",
   "version": "3.6.11"
  }
 },
 "nbformat": 4,
 "nbformat_minor": 2
}
