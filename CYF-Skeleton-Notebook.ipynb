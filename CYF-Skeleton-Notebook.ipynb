{
 "cells": [
  {
   "cell_type": "markdown",
   "metadata": {},
   "source": [
    "# EDF - Code your Future Hackathon\n",
    "\n",
    "## Introduction\n",
    "\n",
    "Welcome to the EDF - Code Your Future Hackathon. \n",
    "\n",
    "#### Problem Statement: You have a dataset, this is a raw dataset obtained from numerous properties in the UK. You are trying to create an algorithm to predict the heating load of a property. You do not need to understand the science behind heating loads, energy transfer etc. Try focus more on the data rather than the context, though, some context does help. \n",
    "\n",
    "In a real life situation, you will never get clean data. You will have anomalies, nulls, or data that just doesn't make sense.\n",
    "\n",
    "This data has been purposely edited to reflect some of that.\n",
    "- It has random data\n",
    "- Anomalies\n",
    "- Null values\n",
    "- Messy data in general\n",
    "\n",
    "Your task is to clean and explore this data using various data manipulation techniques in python that we will teach you. Once you have got the data to a good state, you can then pass it through a Machine Learning Model. This notebook is a skeleton of steps, with some hard steps taken for you, but feel free to change or manipulate any existing code to really understand it.\n",
    "\n",
    "Steps are as followed:\n",
    "- Clean and explore the data\n",
    "- Pass it through the Machine learning model\n",
    "\n",
    "At the end of this, we will give each team a score, to see who did the best prediction model. Remember, its not just the model that affects how well you predict things. Data cleaning and manipulation play a massive role. So even if you dont want to understand the maths of a model, cleaning and manipulating data, makes all the difference. "
   ]
  },
  {
   "cell_type": "markdown",
   "metadata": {},
   "source": [
    "## This is the skeleton notebook"
   ]
  },
  {
   "cell_type": "markdown",
   "metadata": {},
   "source": [
    "### Importing the relevant packages\n",
    "Feel free to install or include more packages in your project, just run this cell again. "
   ]
  },
  {
   "cell_type": "code",
   "execution_count": 4,
   "metadata": {
    "scrolled": true
   },
   "outputs": [],
   "source": [
    "import pandas as pd\n",
    "import numpy as np\n",
    "import matplotlib.pyplot as plt\n",
    "import seaborn as sns\n",
    "\n",
    "from sklearn.model_selection import KFold\n",
    "from sklearn.linear_model import LinearRegression\n",
    "from sklearn.linear_model import Ridge\n",
    "from sklearn.preprocessing import StandardScaler"
   ]
  },
  {
   "cell_type": "markdown",
   "metadata": {},
   "source": [
    "### Functions\n",
    "These are some functions that we have designed for you to use that would help as tools. In your task. "
   ]
  },
  {
   "cell_type": "code",
   "execution_count": 5,
   "metadata": {},
   "outputs": [],
   "source": [
    "\n",
    "# Recode surface area and extract useful text from wall_description\n",
    "def extract_figures(text, position = -3):\n",
    "    # text <- string to extract information from\n",
    "    # position <- integer that tells the position of number in string\n",
    "    listOfWords = text.split()\n",
    "    word = listOfWords[position]\n",
    "    return word\n",
    "\n",
    "def create_correlation_map(df):\n",
    "    plt.figure(figsize=(16, 6))\n",
    "    # Store heatmap object in a variable to easily access it when you want to include more features (such as title).\n",
    "    # Set the range of values to be displayed on the colormap from -1 to 1, and set the annotation to True to display the correlation values on the heatmap.\n",
    "    heatmap = sns.heatmap(df.corr(), vmin=-1, vmax=1, annot=True)\n",
    "    # Give a title to the heatmap. Pad defines the distance of the title from the top of the heatmap.\n",
    "    heatmap.set_title('Correlation Heatmap', fontdict={'fontsize':12}, pad=12);\n",
    "\n",
    "def pretty_print_coefficients(model, columns):\n",
    "    # Function to display estimated coefficients in a more human-readable way\n",
    "\n",
    "    # coef -> np.array: estimated regression coefficients\n",
    "    # columns -> list of str: columns used for prediction\n",
    "\n",
    "    coefDf = pd.DataFrame({\"Feature\": columns,\"Coefficients\": model.coef_[0]})\n",
    "    coefDf.head(len(columns))\n",
    "    return coefDf"
   ]
  },
  {
   "cell_type": "markdown",
   "metadata": {},
   "source": [
    "### Loading in the data"
   ]
  },
  {
   "cell_type": "code",
   "execution_count": 6,
   "metadata": {},
   "outputs": [],
   "source": [
    "# Load in the energy.csv data\n",
    "df = pd.read_csv(\"energy_noisy_train.csv\")"
   ]
  },
  {
   "cell_type": "markdown",
   "metadata": {},
   "source": [
    "The data is now inside the notebook, and you can do all sorts of manipulation on the data by calling the variable df. Try running the cell below to see the data that's now saved in the notebook. Of course, you can call it other than 'df' (convention to denote dataframe)."
   ]
  },
  {
   "cell_type": "code",
   "execution_count": 7,
   "metadata": {},
   "outputs": [
    {
     "data": {
      "text/html": [
       "<div>\n",
       "<style scoped>\n",
       "    .dataframe tbody tr th:only-of-type {\n",
       "        vertical-align: middle;\n",
       "    }\n",
       "\n",
       "    .dataframe tbody tr th {\n",
       "        vertical-align: top;\n",
       "    }\n",
       "\n",
       "    .dataframe thead th {\n",
       "        text-align: right;\n",
       "    }\n",
       "</style>\n",
       "<table border=\"1\" class=\"dataframe\">\n",
       "  <thead>\n",
       "    <tr style=\"text-align: right;\">\n",
       "      <th></th>\n",
       "      <th>Unnamed: 0</th>\n",
       "      <th>Relative Compactness</th>\n",
       "      <th>Roof Area</th>\n",
       "      <th>Overall Height</th>\n",
       "      <th>Orientation</th>\n",
       "      <th>Glazing Area</th>\n",
       "      <th>Glazing Area Distribution</th>\n",
       "      <th>Heating Load</th>\n",
       "      <th>Location</th>\n",
       "      <th>surface_area_categories</th>\n",
       "      <th>wall_description</th>\n",
       "      <th>energxe</th>\n",
       "    </tr>\n",
       "  </thead>\n",
       "  <tbody>\n",
       "    <tr>\n",
       "      <th>0</th>\n",
       "      <td>223</td>\n",
       "      <td>0.71</td>\n",
       "      <td>220.5</td>\n",
       "      <td>3.5</td>\n",
       "      <td>5</td>\n",
       "      <td>0.10</td>\n",
       "      <td>4.407175</td>\n",
       "      <td>10.72</td>\n",
       "      <td>Mountain</td>\n",
       "      <td>High Surface Area</td>\n",
       "      <td>The wall colour is green and the area is 269.5...</td>\n",
       "      <td>571.0</td>\n",
       "    </tr>\n",
       "    <tr>\n",
       "      <th>1</th>\n",
       "      <td>285</td>\n",
       "      <td>0.62</td>\n",
       "      <td>220.5</td>\n",
       "      <td>3.5</td>\n",
       "      <td>3</td>\n",
       "      <td>0.10</td>\n",
       "      <td>3.725392</td>\n",
       "      <td>12.74</td>\n",
       "      <td>City</td>\n",
       "      <td>Very High Surface Area</td>\n",
       "      <td>The wall colour is indigo and the area is 367....</td>\n",
       "      <td>NaN</td>\n",
       "    </tr>\n",
       "    <tr>\n",
       "      <th>2</th>\n",
       "      <td>350</td>\n",
       "      <td>0.82</td>\n",
       "      <td>147.0</td>\n",
       "      <td>7.0</td>\n",
       "      <td>4</td>\n",
       "      <td>0.25</td>\n",
       "      <td>1.530090</td>\n",
       "      <td>25.38</td>\n",
       "      <td>Countryside</td>\n",
       "      <td>Low Surface Area</td>\n",
       "      <td>The wall colour is orange and the area is 318....</td>\n",
       "      <td>NaN</td>\n",
       "    </tr>\n",
       "    <tr>\n",
       "      <th>3</th>\n",
       "      <td>363</td>\n",
       "      <td>0.74</td>\n",
       "      <td>220.5</td>\n",
       "      <td>3.5</td>\n",
       "      <td>5</td>\n",
       "      <td>0.25</td>\n",
       "      <td>2.007144</td>\n",
       "      <td>12.30</td>\n",
       "      <td>City</td>\n",
       "      <td>Average Surface Area</td>\n",
       "      <td>The wall colour is orange and the area is 245....</td>\n",
       "      <td>395.0</td>\n",
       "    </tr>\n",
       "    <tr>\n",
       "      <th>4</th>\n",
       "      <td>551</td>\n",
       "      <td>0.76</td>\n",
       "      <td>122.5</td>\n",
       "      <td>7.0</td>\n",
       "      <td>5</td>\n",
       "      <td>0.40</td>\n",
       "      <td>1.649852</td>\n",
       "      <td>40.43</td>\n",
       "      <td>Seaside</td>\n",
       "      <td>Average Surface Area</td>\n",
       "      <td>The wall colour is indigo and the area is 416....</td>\n",
       "      <td>NaN</td>\n",
       "    </tr>\n",
       "  </tbody>\n",
       "</table>\n",
       "</div>"
      ],
      "text/plain": [
       "   Unnamed: 0  Relative Compactness  Roof Area  Overall Height  Orientation  \\\n",
       "0         223                  0.71      220.5             3.5            5   \n",
       "1         285                  0.62      220.5             3.5            3   \n",
       "2         350                  0.82      147.0             7.0            4   \n",
       "3         363                  0.74      220.5             3.5            5   \n",
       "4         551                  0.76      122.5             7.0            5   \n",
       "\n",
       "   Glazing Area  Glazing Area Distribution  Heating Load     Location  \\\n",
       "0          0.10                   4.407175         10.72     Mountain   \n",
       "1          0.10                   3.725392         12.74         City   \n",
       "2          0.25                   1.530090         25.38  Countryside   \n",
       "3          0.25                   2.007144         12.30         City   \n",
       "4          0.40                   1.649852         40.43      Seaside   \n",
       "\n",
       "  surface_area_categories                                   wall_description  \\\n",
       "0       High Surface Area  The wall colour is green and the area is 269.5...   \n",
       "1  Very High Surface Area  The wall colour is indigo and the area is 367....   \n",
       "2        Low Surface Area  The wall colour is orange and the area is 318....   \n",
       "3    Average Surface Area  The wall colour is orange and the area is 245....   \n",
       "4    Average Surface Area  The wall colour is indigo and the area is 416....   \n",
       "\n",
       "   energxe  \n",
       "0    571.0  \n",
       "1      NaN  \n",
       "2      NaN  \n",
       "3    395.0  \n",
       "4      NaN  "
      ]
     },
     "execution_count": 7,
     "metadata": {},
     "output_type": "execute_result"
    }
   ],
   "source": [
    "df.head()"
   ]
  },
  {
   "cell_type": "markdown",
   "metadata": {},
   "source": [
    "## Exploratory Data Analysis & Cleaning\n",
    "\n",
    "This is part one of the task, we need to do an (exploratory data analysis) EDA as well as clean the dataset.\n",
    "\n",
    "Hints/steps to take\n",
    "\n",
    "- Identify the data attributes, explore the data. How long is it, how many rows are there. What columns, what datatypes are those columns? hints(Use: df.shape and df.dtypes)  \n",
    "- A ML model cannot have categories that are too unique, if a category has (red, blue, green) thats three unique categories, but what about 50? Thats' too many unless you want the model to be complicated. Possible but not reasonable.\n",
    "- What should we do with the null data?\n",
    "- Do the continuous (numbered) columns have any relationship/correlation? explore this\n",
    "- Explore the categorical data, plot bar charts, is there anything interesting/not important.\n",
    "- Extra: What's interesting about the orientation column, is there something else we could do to it based on its context\n",
    "- Extra: The sky is the limit, do as much manipulation/exploration as you want to get the data in a good state"
   ]
  },
  {
   "cell_type": "markdown",
   "metadata": {},
   "source": [
    "#### Initial Explorations"
   ]
  },
  {
   "cell_type": "code",
   "execution_count": null,
   "metadata": {},
   "outputs": [],
   "source": []
  },
  {
   "cell_type": "markdown",
   "metadata": {},
   "source": [
    "Wall Description has 56 unique values in that column, this cannot be used as a categorical column. This column can be cleaned by isolating colour and number. As we spot this, we can do this now."
   ]
  },
  {
   "cell_type": "code",
   "execution_count": 10,
   "metadata": {},
   "outputs": [],
   "source": [
    "# We utilise the extract figures function we defined before and used a .apply on the columns to do this. \n",
    "\n",
    "df[\"Wall Area\"] = df[\"wall_description\"].apply(lambda x: float(extract_figures(x, -3)))\n",
    "df[\"Colour\"] = df[\"wall_description\"].apply(lambda x: extract_figures(x, 4))\n",
    "df.head()"
   ]
  },
  {
   "cell_type": "markdown",
   "metadata": {},
   "source": [
    "#### Null explorations"
   ]
  },
  {
   "cell_type": "markdown",
   "metadata": {},
   "source": [
    "Now we check the nulls.\n",
    "\n",
    "Hints \n",
    "Possible to use: df.isnull().sum()\n",
    "\n",
    "Make decisions based on this and possibly use: df.dropna() \n",
    "(Be weary when using this to make sure you don't lose too much data if you do this)"
   ]
  },
  {
   "cell_type": "code",
   "execution_count": 11,
   "metadata": {},
   "outputs": [],
   "source": [
    "# Checking the Null values graphically \n",
    "sns.heatmap( ___ ,yticklabels=False, cmap='viridis')"
   ]
  },
  {
   "cell_type": "markdown",
   "metadata": {},
   "source": [
    "### Some more EDA"
   ]
  },
  {
   "cell_type": "markdown",
   "metadata": {},
   "source": [
    "Now data seems clean at a glance, we should start doing explorations to see if it can be cleaned more/if theres some redundant stuff in there. "
   ]
  },
  {
   "cell_type": "code",
   "execution_count": 12,
   "metadata": {},
   "outputs": [],
   "source": [
    "# This is a function that we defined earlier, be sure to look at this function to see if you understand it. \n",
    "# It creates a correlation map where 1 means perfect correlation. This is to identify relationships.\n",
    "create_correlation_map(df)\n"
   ]
  },
  {
   "cell_type": "markdown",
   "metadata": {},
   "source": [
    "The unnamed column seems useless, and it has a high relationship with glazing area, so if we have glazing area, we don't need unnamed. It seems to be a redundant column that may mess with our data. We can choose to remove this now, or test it with the model later. In this case we decide to remove it now.\n",
    "\n",
    "Lets look at what has a high correlation with heating load. It seems height, and roof area is very important to predict heating load. So we should make sure these columns are cleaned and note their good relationship."
   ]
  },
  {
   "cell_type": "code",
   "execution_count": null,
   "metadata": {},
   "outputs": [],
   "source": [
    "# Remove 'Unnamed: 0' column from the data\n",
    "df.drop(columns = ___ , inplace = True)"
   ]
  },
  {
   "cell_type": "markdown",
   "metadata": {},
   "source": [
    "Now, check the relationships graphically.\n",
    "\n",
    "Hint: Use sns.pairplot(df)"
   ]
  },
  {
   "cell_type": "code",
   "execution_count": null,
   "metadata": {},
   "outputs": [],
   "source": []
  },
  {
   "cell_type": "markdown",
   "metadata": {},
   "source": [
    "Take a look at the graphs above! DO you notice something on the Relative Compactness, Roof Area, Overall Height and Orientation graphs?\n",
    "\n",
    "\n",
    "Those are likely extreme values and should be removed before proceeding to fit any machine learning model. While we're at it - there are 2 extreme observations for the variables we want to predict (Heating load) that we should remove as well.\n",
    "\n",
    "Let's check some anomalies using boxplots!"
   ]
  },
  {
   "cell_type": "markdown",
   "metadata": {},
   "source": [
    "#### Plotting anomalies"
   ]
  },
  {
   "cell_type": "markdown",
   "metadata": {},
   "source": [
    "Hint: Use sns.boxplot(x=df['COLUMN NAME']) "
   ]
  },
  {
   "cell_type": "code",
   "execution_count": 14,
   "metadata": {},
   "outputs": [],
   "source": [
    "#EXAMPLE OF BOXPLOT\n",
    "\n",
    "sns.boxplot(x=df['Relative Compactness'])"
   ]
  },
  {
   "cell_type": "markdown",
   "metadata": {},
   "source": [
    "Do you think there are other extreme values which should be removed?"
   ]
  },
  {
   "cell_type": "code",
   "execution_count": null,
   "metadata": {},
   "outputs": [],
   "source": []
  },
  {
   "cell_type": "markdown",
   "metadata": {},
   "source": [
    "#### Let's explore some categorical features"
   ]
  },
  {
   "cell_type": "markdown",
   "metadata": {},
   "source": [
    "Hints\n",
    "- Use sns.countplot\n",
    "- Use sns.barplot\n",
    "- Use any more visualisations to understand the categories!\n",
    "\n",
    "Don't forget to use google to see the documentation!"
   ]
  },
  {
   "cell_type": "markdown",
   "metadata": {},
   "source": [
    "With categorical feature, you see that colour is just random, you could see if it can be used in the model, but in this case since logically colour doesn't seem to have an effect, and from below, they all seem equal volumes. Therefore, you could remove colour without major drawbacks.\n"
   ]
  },
  {
   "cell_type": "code",
   "execution_count": 16,
   "metadata": {},
   "outputs": [],
   "source": [
    "plt.figure(figsize=(10,7))\n",
    "ax = sns.countplot(x=___, data=df)"
   ]
  },
  {
   "cell_type": "markdown",
   "metadata": {},
   "source": [
    "You could also plot average heating load by loaction to get a better understanding of the relationship between these two variables. Now let's see the bar plot with heating load (what we are predicting). Feel free to add in/experiment with other exploratory variable candidates!"
   ]
  },
  {
   "cell_type": "code",
   "execution_count": 17,
   "metadata": {},
   "outputs": [],
   "source": [
    "# Plotting average heating load by location\n",
    "plt.figure(figsize=(10,7))\n",
    "location_heating_average_rating  = df.groupby(by =[___]).mean().reset_index()\n",
    "ax=sns.barplot(x=___, y=___, data=location_heating_average_rating)"
   ]
  },
  {
   "cell_type": "markdown",
   "metadata": {},
   "source": [
    "## Machine Learning models"
   ]
  },
  {
   "cell_type": "markdown",
   "metadata": {},
   "source": [
    "Congratulations! Now you should have a good idea of the data and cleaned it ready to pass through a machine learning model. \n",
    "\n",
    "Everything in this section is prefilled apart from DUMMY VARIABLES.\n",
    "\n",
    "We are keeping most of this section more as a playground section as an introductory."
   ]
  },
  {
   "cell_type": "markdown",
   "metadata": {},
   "source": [
    "#### Before the ML model, we must turn all the categorical columns into dummy variables."
   ]
  },
  {
   "cell_type": "code",
   "execution_count": 19,
   "metadata": {
    "scrolled": true
   },
   "outputs": [],
   "source": [
    "# Create dummy variables out of surface area categories\n",
    "colNames = [\"Very Low Surface Area\", \"Low Surface Area\", \"Average Surface Area\", \"High Surface Area\", \"Very High Surface Area\"]\n",
    "df[colNames] = pd.get_dummies(df[\"surface_area_categories\"],dtype=int)\n",
    "\n",
    "\n",
    "# Create dummy columns for location variable\n",
    "colNames = [\"Mountain\", \"City\", \"___side\", \"Seaside\", \"Lakeside\"]\n",
    "df[colNames] = pd.get_dummies(df[___],dtype=int)\n",
    "\n",
    "# Drop redundant columns\n",
    "df.drop(labels=[___, ____], axis=1, inplace=True)\n",
    "df.head()"
   ]
  },
  {
   "cell_type": "markdown",
   "metadata": {},
   "source": [
    "### EXTRA: could there be any other columns in the dataset that could be treated as a categorical column? What can you do."
   ]
  },
  {
   "cell_type": "markdown",
   "metadata": {},
   "source": [
    "Orientation is a categorical column despite having integers, this is important as it would skew the model if it was treated as numerical. For example, logically, orientation 1 is the same as orientation 2, but in numerical turns, orientation 2 is more positive, when they are at the same level but mean different things. Hence, we should make this categorical and also make dummy variables"
   ]
  },
  {
   "cell_type": "code",
   "execution_count": 20,
   "metadata": {},
   "outputs": [],
   "source": [
    "# Create dummy values for Orientation\n",
    "colNames = [\"North Orientation\", \"East Orientation\", \"South Orientation\", \"West Orientation\"]\n",
    "df[colNames] = pd.___(df[___],dtype=int)\n",
    "# Drop redundant columns\n",
    "df.drop(labels=[____], axis=1, inplace=True)\n",
    "df.head()"
   ]
  },
  {
   "cell_type": "markdown",
   "metadata": {},
   "source": [
    "### Linear Regression Model"
   ]
  },
  {
   "cell_type": "markdown",
   "metadata": {},
   "source": [
    "Below we added all the variables we think could be highly relevant to the ML model - and your job is to find the best ones among them! We also added a variable for the number of folds (how many groups the data should be split into) which you can use to reduce or increase the training set.\n",
    "We also added the option to change the random seed. This changes which observations go to which group - a good model predicts accurately, no matter what random seed value is given to it.\n",
    "\n",
    "After you make changes to the model, make sure to re-run the 3 cells below to update the model results."
   ]
  },
  {
   "cell_type": "code",
   "execution_count": null,
   "metadata": {},
   "outputs": [],
   "source": [
    "# Explain the variables below to understand what they can vary. \n",
    "\n",
    "# Playground area - edits these and see how the model Linear Regression model changes!\n",
    "depVars = ['Relative Compactness', \n",
    "'Roof Area', \n",
    "'Overall Height', \n",
    "#\"North Orientation\",\n",
    "#\"East Orientation\",\n",
    "#\"South Orientation\",\n",
    "#\"West Orientation\" \n",
    "'Glazing Area', \n",
    "'Glazing Area Distribution', \n",
    "#\"Mountain\",\n",
    "#\"City\",\n",
    "#\"Countryside\",\n",
    "#\"Seaside\",\n",
    "#\"Lakeside\"\n",
    "'Wall Area', \n",
    "'Very Low Surface Area', \n",
    "'Low Surface Area', \n",
    "'Average Surface Area', \n",
    "'High Surface Area', \n",
    "'Very High Surface Area']\n",
    "\n",
    "outcomeVar = \"Heating Load\"\n",
    "\n",
    "numberOfFolds = 3\n",
    "randomSeed = 42"
   ]
  },
  {
   "cell_type": "code",
   "execution_count": null,
   "metadata": {},
   "outputs": [
    {
     "data": {
      "text/plain": [
       "[0.9729227623373188, 0.9699769716590502, 0.9748411721612356]"
      ]
     },
     "execution_count": 86,
     "metadata": {},
     "output_type": "execute_result"
    }
   ],
   "source": [
    "# Now build the Linear Model from settings above\n",
    "X = pd.DataFrame(df[depVars])\n",
    "Y = pd.DataFrame(df[outcomeVar])\n",
    "\n",
    "model = LinearRegression()\n",
    "rScores = list()\n",
    "kFold = KFold(n_splits=numberOfFolds, shuffle=True, random_state=randomSeed)\n",
    "\n",
    "for _, (train, test) in enumerate(kFold.split(X, Y)):\n",
    "    model.fit(X.iloc[train,:], Y.iloc[train,:])\n",
    "    score = model.score(X.iloc[test,:], Y.iloc[test,:])\n",
    "    rScores.append(score)\n",
    "\n",
    "rScores"
   ]
  },
  {
   "cell_type": "code",
   "execution_count": null,
   "metadata": {},
   "outputs": [
    {
     "data": {
      "text/html": [
       "<div>\n",
       "<style scoped>\n",
       "    .dataframe tbody tr th:only-of-type {\n",
       "        vertical-align: middle;\n",
       "    }\n",
       "\n",
       "    .dataframe tbody tr th {\n",
       "        vertical-align: top;\n",
       "    }\n",
       "\n",
       "    .dataframe thead th {\n",
       "        text-align: right;\n",
       "    }\n",
       "</style>\n",
       "<table border=\"1\" class=\"dataframe\">\n",
       "  <thead>\n",
       "    <tr style=\"text-align: right;\">\n",
       "      <th></th>\n",
       "      <th>Feature</th>\n",
       "      <th>Coefficients</th>\n",
       "    </tr>\n",
       "  </thead>\n",
       "  <tbody>\n",
       "    <tr>\n",
       "      <th>0</th>\n",
       "      <td>Relative Compactness</td>\n",
       "      <td>34.835775</td>\n",
       "    </tr>\n",
       "    <tr>\n",
       "      <th>1</th>\n",
       "      <td>Roof Area</td>\n",
       "      <td>0.281596</td>\n",
       "    </tr>\n",
       "    <tr>\n",
       "      <th>2</th>\n",
       "      <td>Overall Height</td>\n",
       "      <td>11.640947</td>\n",
       "    </tr>\n",
       "    <tr>\n",
       "      <th>3</th>\n",
       "      <td>Glazing Area</td>\n",
       "      <td>19.886372</td>\n",
       "    </tr>\n",
       "    <tr>\n",
       "      <th>4</th>\n",
       "      <td>Glazing Area Distribution</td>\n",
       "      <td>0.059157</td>\n",
       "    </tr>\n",
       "    <tr>\n",
       "      <th>5</th>\n",
       "      <td>Wall Area</td>\n",
       "      <td>0.054888</td>\n",
       "    </tr>\n",
       "    <tr>\n",
       "      <th>6</th>\n",
       "      <td>Very Low Surface Area</td>\n",
       "      <td>3.074971</td>\n",
       "    </tr>\n",
       "    <tr>\n",
       "      <th>7</th>\n",
       "      <td>Low Surface Area</td>\n",
       "      <td>2.645203</td>\n",
       "    </tr>\n",
       "    <tr>\n",
       "      <th>8</th>\n",
       "      <td>Average Surface Area</td>\n",
       "      <td>-8.686788</td>\n",
       "    </tr>\n",
       "    <tr>\n",
       "      <th>9</th>\n",
       "      <td>High Surface Area</td>\n",
       "      <td>3.828052</td>\n",
       "    </tr>\n",
       "    <tr>\n",
       "      <th>10</th>\n",
       "      <td>Very High Surface Area</td>\n",
       "      <td>-0.861438</td>\n",
       "    </tr>\n",
       "  </tbody>\n",
       "</table>\n",
       "</div>"
      ],
      "text/plain": [
       "                      Feature  Coefficients\n",
       "0        Relative Compactness     34.835775\n",
       "1                   Roof Area      0.281596\n",
       "2              Overall Height     11.640947\n",
       "3                Glazing Area     19.886372\n",
       "4   Glazing Area Distribution      0.059157\n",
       "5                   Wall Area      0.054888\n",
       "6       Very Low Surface Area      3.074971\n",
       "7            Low Surface Area      2.645203\n",
       "8        Average Surface Area     -8.686788\n",
       "9           High Surface Area      3.828052\n",
       "10     Very High Surface Area     -0.861438"
      ]
     },
     "execution_count": 87,
     "metadata": {},
     "output_type": "execute_result"
    }
   ],
   "source": [
    "# Check estimated coefficients\n",
    "pretty_print_coefficients(model, depVars)"
   ]
  },
  {
   "cell_type": "markdown",
   "metadata": {},
   "source": [
    "The outcome from the 2nd cell is the r-squared scores of the models from each test run. The higher those numbers are, the better. It reflects that your model explains more of the variation that is seen in the data and generally results in better predictions.\n",
    "\n",
    "The final cell gives you the value for each coefficient from the last run. It is generally a good idea to take a look at these and see which variables are positively/negatively affecting the predicted outcome.\n",
    "\n",
    "Below, you can play around with prediction - using the estimated coefficients from the model, you can see what heating load your model would predict for an actual house. You can even get some observations from the actual dataset and see how your predictions differ from the actual value. Remember - your model would not be judged on 1 prediction, so it is better to be correct in general than being extra precise for 1 use case.\n",
    "\n",
    "Note: You should use the exact same variables for prediction (in the same order!) as you used when training your dataset."
   ]
  },
  {
   "cell_type": "markdown",
   "metadata": {},
   "source": [
    "### Predicting example"
   ]
  },
  {
   "cell_type": "code",
   "execution_count": null,
   "metadata": {},
   "outputs": [
    {
     "data": {
      "text/plain": [
       "array([[41.59782143]])"
      ]
     },
     "execution_count": 88,
     "metadata": {},
     "output_type": "execute_result"
    }
   ],
   "source": [
    "# Put in Markdown explanation\n",
    "\n",
    "# Use trained model for prediction\n",
    "newData = pd.DataFrame({\n",
    "'Relative Compactness': 0.8, \n",
    "'Roof Area': 150, \n",
    "'Overall Height': 7, \n",
    "#\"North Orientation\": 0,\n",
    "#\"East Orientation\": 0,\n",
    "#\"South Orientation\": 1,\n",
    "#\"West Orientation\": 0,\n",
    "'Glazing Area': 0.45, \n",
    "'Glazing Area Distribution': 5, \n",
    "#\"Mountain\": 0,\n",
    "#\"City\": 1,\n",
    "#\"Countryside\": 0,\n",
    "#\"Seaside\": 0,\n",
    "#\"Lakeside\": 0,\n",
    "'Wall Area': 500, \n",
    "'Very Low Surface Area': 0, \n",
    "'Low Surface Area': 0, \n",
    "'Average Surface Area': 1, \n",
    "'High Surface Area': 0, \n",
    "'Very High Surface Area': 0\n",
    "}, index=[0])\n",
    "\n",
    "model.predict(newData)"
   ]
  },
  {
   "cell_type": "markdown",
   "metadata": {},
   "source": [
    "#### Ridge Regression"
   ]
  },
  {
   "cell_type": "markdown",
   "metadata": {},
   "source": [
    "By the time you read this, you should be familiar with all but the last 2 options/parameters you see in the cell below (if not, please read the description above the section for linear regression). The final 2 parameters control some specifics of the ridge regression:\n",
    "\n",
    "penaltyParameter signifies how much negative score to give for large coefficients. If this value is increased, some estimated parameters (generally those that are the worst when it comes to prediction) will tend towards zero. Thus, this is a great way to see what variables are most important for your predictions.\n",
    "\n",
    "standardizeData is a boolean indicating if data should be standardized. Standardization is beyond the scope of this Hackathon (although Google/YouTube is your friend if you want to know more about it) so the only thing you need to know is that if you set this to \"True\" then all potential variables are given an equal penalty. If set to \"False\", then variables which are the furthest away from 0 are given greater penalty than those which are closer to zero. I recommend leaving this as \"True\"."
   ]
  },
  {
   "cell_type": "code",
   "execution_count": null,
   "metadata": {},
   "outputs": [],
   "source": [
    "# Playground area - edits these and see how the Ridge Regression model changes!\n",
    "depVars = ['Relative Compactness', \n",
    "'Roof Area', \n",
    "'Overall Height', \n",
    "#\"North Orientation\",\n",
    "#\"East Orientation\",\n",
    "#\"South Orientation\",\n",
    "#\"West Orientation\" \n",
    "'Glazing Area', \n",
    "'Glazing Area Distribution', \n",
    "#\"Mountain\",\n",
    "#\"City\",\n",
    "#\"Countryside\",\n",
    "#\"Seaside\",\n",
    "#\"Lakeside\"\n",
    "'Wall Area', \n",
    "'Very Low Surface Area', \n",
    "'Low Surface Area', \n",
    "'Average Surface Area', \n",
    "'High Surface Area', \n",
    "'Very High Surface Area']\n",
    "\n",
    "outcomeVar = \"Heating Load\"\n",
    "numberOfFolds = 3\n",
    "randomSeed = 42\n",
    "penaltyParameter = 1\n",
    "standardizeData = True"
   ]
  },
  {
   "cell_type": "code",
   "execution_count": null,
   "metadata": {},
   "outputs": [],
   "source": [
    "# Takes care of data standardization process (only run once)\n",
    "scaler = StandardScaler()\n",
    "\n",
    "X = pd.DataFrame(df[depVars])\n",
    "Y = pd.DataFrame(df[outcomeVar])\n",
    "\n",
    "if standardizeData:\n",
    "    scaler.fit(X.values)\n",
    "    scaledData = scaler.transform(X)\n",
    "    standardDf = pd.DataFrame(scaledData, index=X.index, columns=X.columns)\n",
    "\n",
    "else:\n",
    "    standardDf = df"
   ]
  },
  {
   "cell_type": "code",
   "execution_count": null,
   "metadata": {},
   "outputs": [
    {
     "data": {
      "text/plain": [
       "[0.9722850150166756, 0.9644943773497127, 0.9742457719154707]"
      ]
     },
     "execution_count": 91,
     "metadata": {},
     "output_type": "execute_result"
    }
   ],
   "source": [
    "# Fit actual Ridge Regression model\n",
    "model = Ridge(alpha=penaltyParameter)\n",
    "rScores = list()\n",
    "kFold = KFold(n_splits=numberOfFolds, shuffle=True, random_state=randomSeed)\n",
    "\n",
    "for _, (train, test) in enumerate(kFold.split(X, Y)):\n",
    "    model.fit(X.iloc[train,:], Y.iloc[train,:])\n",
    "    score = model.score(X.iloc[test,:], Y.iloc[test,:])\n",
    "    rScores.append(score)\n",
    "\n",
    "rScores"
   ]
  },
  {
   "cell_type": "code",
   "execution_count": null,
   "metadata": {},
   "outputs": [
    {
     "data": {
      "text/html": [
       "<div>\n",
       "<style scoped>\n",
       "    .dataframe tbody tr th:only-of-type {\n",
       "        vertical-align: middle;\n",
       "    }\n",
       "\n",
       "    .dataframe tbody tr th {\n",
       "        vertical-align: top;\n",
       "    }\n",
       "\n",
       "    .dataframe thead th {\n",
       "        text-align: right;\n",
       "    }\n",
       "</style>\n",
       "<table border=\"1\" class=\"dataframe\">\n",
       "  <thead>\n",
       "    <tr style=\"text-align: right;\">\n",
       "      <th></th>\n",
       "      <th>Feature</th>\n",
       "      <th>Coefficients</th>\n",
       "    </tr>\n",
       "  </thead>\n",
       "  <tbody>\n",
       "    <tr>\n",
       "      <th>0</th>\n",
       "      <td>Relative Compactness</td>\n",
       "      <td>0.375911</td>\n",
       "    </tr>\n",
       "    <tr>\n",
       "      <th>1</th>\n",
       "      <td>Roof Area</td>\n",
       "      <td>0.173863</td>\n",
       "    </tr>\n",
       "    <tr>\n",
       "      <th>2</th>\n",
       "      <td>Overall Height</td>\n",
       "      <td>10.580892</td>\n",
       "    </tr>\n",
       "    <tr>\n",
       "      <th>3</th>\n",
       "      <td>Glazing Area</td>\n",
       "      <td>17.153368</td>\n",
       "    </tr>\n",
       "    <tr>\n",
       "      <th>4</th>\n",
       "      <td>Glazing Area Distribution</td>\n",
       "      <td>0.093342</td>\n",
       "    </tr>\n",
       "    <tr>\n",
       "      <th>5</th>\n",
       "      <td>Wall Area</td>\n",
       "      <td>0.019649</td>\n",
       "    </tr>\n",
       "    <tr>\n",
       "      <th>6</th>\n",
       "      <td>Very Low Surface Area</td>\n",
       "      <td>2.696185</td>\n",
       "    </tr>\n",
       "    <tr>\n",
       "      <th>7</th>\n",
       "      <td>Low Surface Area</td>\n",
       "      <td>1.909377</td>\n",
       "    </tr>\n",
       "    <tr>\n",
       "      <th>8</th>\n",
       "      <td>Average Surface Area</td>\n",
       "      <td>-7.758811</td>\n",
       "    </tr>\n",
       "    <tr>\n",
       "      <th>9</th>\n",
       "      <td>High Surface Area</td>\n",
       "      <td>3.164169</td>\n",
       "    </tr>\n",
       "    <tr>\n",
       "      <th>10</th>\n",
       "      <td>Very High Surface Area</td>\n",
       "      <td>-0.010920</td>\n",
       "    </tr>\n",
       "  </tbody>\n",
       "</table>\n",
       "</div>"
      ],
      "text/plain": [
       "                      Feature  Coefficients\n",
       "0        Relative Compactness      0.375911\n",
       "1                   Roof Area      0.173863\n",
       "2              Overall Height     10.580892\n",
       "3                Glazing Area     17.153368\n",
       "4   Glazing Area Distribution      0.093342\n",
       "5                   Wall Area      0.019649\n",
       "6       Very Low Surface Area      2.696185\n",
       "7            Low Surface Area      1.909377\n",
       "8        Average Surface Area     -7.758811\n",
       "9           High Surface Area      3.164169\n",
       "10     Very High Surface Area     -0.010920"
      ]
     },
     "execution_count": 92,
     "metadata": {},
     "output_type": "execute_result"
    }
   ],
   "source": [
    "# Ridge regression coefficients = higher values indicate better correlation between predictor and outcome\n",
    "pretty_print_coefficients(model, depVars)"
   ]
  },
  {
   "cell_type": "markdown",
   "metadata": {},
   "source": [
    "The outcome from the 2nd cell is the r-squared scores of the models from each test run. The higher those numbers are, the better. It reflects that your model explains more of the variation that is seen in the data and generally results in better predictions.\n",
    "\n",
    "The final cell gives you the value for each coefficient from the last run. It is generally a good idea to take a look at these and see which variables are positively/negatively affecting the predicted outcome. If any of these are close to zero, maybe they are not that relevant and should be removed after all.\n",
    "\n",
    "Below, you can play around with prediction - using the estimated coefficients from the model, you can see what heating load your model would predict for an actual house. You can even get some observations from the actual dataset and see how your predictions differ from the actual value. Remember - your model would not be judged on 1 prediction, so it is better to be correct in general than being extra precise for 1 use case.\n",
    "\n",
    "Note: You should use the exact same variables for prediction (in the same order!) as you used when training your dataset\n",
    "\n",
    "Are the Ridge Regression predictions different from the Linear Regression predictions? If so, how? Is any of the two consistently better or worse?"
   ]
  },
  {
   "cell_type": "code",
   "execution_count": null,
   "metadata": {},
   "outputs": [
    {
     "data": {
      "text/plain": [
       "array([[-57.71722828]])"
      ]
     },
     "execution_count": 93,
     "metadata": {},
     "output_type": "execute_result"
    }
   ],
   "source": [
    "# Prediction using Ridge Regression\n",
    "# Use trained model for prediction\n",
    "newData = pd.DataFrame({\n",
    "'Relative Compactness': 0.8, \n",
    "'Roof Area': 150, \n",
    "'Overall Height': 7, \n",
    "#\"North Orientation\": 0,\n",
    "#\"East Orientation\": 0,\n",
    "#\"South Orientation\": 1,\n",
    "#\"West Orientation\": 0,\n",
    "'Glazing Area': 0.45, \n",
    "'Glazing Area Distribution': 5, \n",
    "#\"Mountain\": 0,\n",
    "#\"City\": 1,\n",
    "#\"Countryside\": 0,\n",
    "#\"Seaside\": 0,\n",
    "#\"Lakeside\": 0,\n",
    "'Wall Area': 500, \n",
    "'Very Low Surface Area': 0, \n",
    "'Low Surface Area': 0, \n",
    "'Average Surface Area': 1, \n",
    "'High Surface Area': 0, \n",
    "'Very High Surface Area': 0\n",
    "}, index=[0])\n",
    "\n",
    "if standardizeData:\n",
    "    newData = scaler.transform(newData)\n",
    "\n",
    "model.predict(newData)"
   ]
  }
 ],
 "metadata": {
  "interpreter": {
   "hash": "31f2aee4e71d21fbe5cf8b01ff0e069b9275f58929596ceb00d14d90e3e16cd6"
  },
  "kernelspec": {
   "display_name": "Python 3",
   "language": "python",
   "name": "python3"
  },
  "language_info": {
   "codemirror_mode": {
    "name": "ipython",
    "version": 3
   },
   "file_extension": ".py",
   "mimetype": "text/x-python",
   "name": "python",
   "nbconvert_exporter": "python",
   "pygments_lexer": "ipython3",
   "version": "3.6.9"
  }
 },
 "nbformat": 4,
 "nbformat_minor": 2
}
